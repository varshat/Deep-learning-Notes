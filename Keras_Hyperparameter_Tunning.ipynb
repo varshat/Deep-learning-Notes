{
  "nbformat": 4,
  "nbformat_minor": 0,
  "metadata": {
    "colab": {
      "provenance": []
    },
    "kernelspec": {
      "name": "python3",
      "display_name": "Python 3"
    },
    "language_info": {
      "name": "python"
    }
  },
  "cells": [
    {
      "cell_type": "code",
      "execution_count": 9,
      "metadata": {
        "id": "2vhnGMA8kvoy"
      },
      "outputs": [],
      "source": [
        "import numpy as np\n",
        "import pandas as pd\n"
      ]
    },
    {
      "cell_type": "code",
      "source": [
        "df = pd.read_csv('diabetes.csv')"
      ],
      "metadata": {
        "id": "ryvRGx5AlXwT"
      },
      "execution_count": 10,
      "outputs": []
    },
    {
      "cell_type": "code",
      "source": [
        "df.head()"
      ],
      "metadata": {
        "colab": {
          "base_uri": "https://localhost:8080/",
          "height": 206
        },
        "id": "XRALZAjul19S",
        "outputId": "93d754c4-0460-44ff-a365-f9cb9cc6381a"
      },
      "execution_count": 11,
      "outputs": [
        {
          "output_type": "execute_result",
          "data": {
            "text/plain": [
              "   Pregnancies  Glucose  BloodPressure  SkinThickness  Insulin   BMI  \\\n",
              "0            6      148             72             35        0  33.6   \n",
              "1            1       85             66             29        0  26.6   \n",
              "2            8      183             64              0        0  23.3   \n",
              "3            1       89             66             23       94  28.1   \n",
              "4            0      137             40             35      168  43.1   \n",
              "\n",
              "   DiabetesPedigreeFunction  Age  Outcome  \n",
              "0                     0.627   50        1  \n",
              "1                     0.351   31        0  \n",
              "2                     0.672   32        1  \n",
              "3                     0.167   21        0  \n",
              "4                     2.288   33        1  "
            ],
            "text/html": [
              "\n",
              "  <div id=\"df-f1830f37-8dc9-4fdd-a50f-4980e70d42c8\" class=\"colab-df-container\">\n",
              "    <div>\n",
              "<style scoped>\n",
              "    .dataframe tbody tr th:only-of-type {\n",
              "        vertical-align: middle;\n",
              "    }\n",
              "\n",
              "    .dataframe tbody tr th {\n",
              "        vertical-align: top;\n",
              "    }\n",
              "\n",
              "    .dataframe thead th {\n",
              "        text-align: right;\n",
              "    }\n",
              "</style>\n",
              "<table border=\"1\" class=\"dataframe\">\n",
              "  <thead>\n",
              "    <tr style=\"text-align: right;\">\n",
              "      <th></th>\n",
              "      <th>Pregnancies</th>\n",
              "      <th>Glucose</th>\n",
              "      <th>BloodPressure</th>\n",
              "      <th>SkinThickness</th>\n",
              "      <th>Insulin</th>\n",
              "      <th>BMI</th>\n",
              "      <th>DiabetesPedigreeFunction</th>\n",
              "      <th>Age</th>\n",
              "      <th>Outcome</th>\n",
              "    </tr>\n",
              "  </thead>\n",
              "  <tbody>\n",
              "    <tr>\n",
              "      <th>0</th>\n",
              "      <td>6</td>\n",
              "      <td>148</td>\n",
              "      <td>72</td>\n",
              "      <td>35</td>\n",
              "      <td>0</td>\n",
              "      <td>33.6</td>\n",
              "      <td>0.627</td>\n",
              "      <td>50</td>\n",
              "      <td>1</td>\n",
              "    </tr>\n",
              "    <tr>\n",
              "      <th>1</th>\n",
              "      <td>1</td>\n",
              "      <td>85</td>\n",
              "      <td>66</td>\n",
              "      <td>29</td>\n",
              "      <td>0</td>\n",
              "      <td>26.6</td>\n",
              "      <td>0.351</td>\n",
              "      <td>31</td>\n",
              "      <td>0</td>\n",
              "    </tr>\n",
              "    <tr>\n",
              "      <th>2</th>\n",
              "      <td>8</td>\n",
              "      <td>183</td>\n",
              "      <td>64</td>\n",
              "      <td>0</td>\n",
              "      <td>0</td>\n",
              "      <td>23.3</td>\n",
              "      <td>0.672</td>\n",
              "      <td>32</td>\n",
              "      <td>1</td>\n",
              "    </tr>\n",
              "    <tr>\n",
              "      <th>3</th>\n",
              "      <td>1</td>\n",
              "      <td>89</td>\n",
              "      <td>66</td>\n",
              "      <td>23</td>\n",
              "      <td>94</td>\n",
              "      <td>28.1</td>\n",
              "      <td>0.167</td>\n",
              "      <td>21</td>\n",
              "      <td>0</td>\n",
              "    </tr>\n",
              "    <tr>\n",
              "      <th>4</th>\n",
              "      <td>0</td>\n",
              "      <td>137</td>\n",
              "      <td>40</td>\n",
              "      <td>35</td>\n",
              "      <td>168</td>\n",
              "      <td>43.1</td>\n",
              "      <td>2.288</td>\n",
              "      <td>33</td>\n",
              "      <td>1</td>\n",
              "    </tr>\n",
              "  </tbody>\n",
              "</table>\n",
              "</div>\n",
              "    <div class=\"colab-df-buttons\">\n",
              "\n",
              "  <div class=\"colab-df-container\">\n",
              "    <button class=\"colab-df-convert\" onclick=\"convertToInteractive('df-f1830f37-8dc9-4fdd-a50f-4980e70d42c8')\"\n",
              "            title=\"Convert this dataframe to an interactive table.\"\n",
              "            style=\"display:none;\">\n",
              "\n",
              "  <svg xmlns=\"http://www.w3.org/2000/svg\" height=\"24px\" viewBox=\"0 -960 960 960\">\n",
              "    <path d=\"M120-120v-720h720v720H120Zm60-500h600v-160H180v160Zm220 220h160v-160H400v160Zm0 220h160v-160H400v160ZM180-400h160v-160H180v160Zm440 0h160v-160H620v160ZM180-180h160v-160H180v160Zm440 0h160v-160H620v160Z\"/>\n",
              "  </svg>\n",
              "    </button>\n",
              "\n",
              "  <style>\n",
              "    .colab-df-container {\n",
              "      display:flex;\n",
              "      gap: 12px;\n",
              "    }\n",
              "\n",
              "    .colab-df-convert {\n",
              "      background-color: #E8F0FE;\n",
              "      border: none;\n",
              "      border-radius: 50%;\n",
              "      cursor: pointer;\n",
              "      display: none;\n",
              "      fill: #1967D2;\n",
              "      height: 32px;\n",
              "      padding: 0 0 0 0;\n",
              "      width: 32px;\n",
              "    }\n",
              "\n",
              "    .colab-df-convert:hover {\n",
              "      background-color: #E2EBFA;\n",
              "      box-shadow: 0px 1px 2px rgba(60, 64, 67, 0.3), 0px 1px 3px 1px rgba(60, 64, 67, 0.15);\n",
              "      fill: #174EA6;\n",
              "    }\n",
              "\n",
              "    .colab-df-buttons div {\n",
              "      margin-bottom: 4px;\n",
              "    }\n",
              "\n",
              "    [theme=dark] .colab-df-convert {\n",
              "      background-color: #3B4455;\n",
              "      fill: #D2E3FC;\n",
              "    }\n",
              "\n",
              "    [theme=dark] .colab-df-convert:hover {\n",
              "      background-color: #434B5C;\n",
              "      box-shadow: 0px 1px 3px 1px rgba(0, 0, 0, 0.15);\n",
              "      filter: drop-shadow(0px 1px 2px rgba(0, 0, 0, 0.3));\n",
              "      fill: #FFFFFF;\n",
              "    }\n",
              "  </style>\n",
              "\n",
              "    <script>\n",
              "      const buttonEl =\n",
              "        document.querySelector('#df-f1830f37-8dc9-4fdd-a50f-4980e70d42c8 button.colab-df-convert');\n",
              "      buttonEl.style.display =\n",
              "        google.colab.kernel.accessAllowed ? 'block' : 'none';\n",
              "\n",
              "      async function convertToInteractive(key) {\n",
              "        const element = document.querySelector('#df-f1830f37-8dc9-4fdd-a50f-4980e70d42c8');\n",
              "        const dataTable =\n",
              "          await google.colab.kernel.invokeFunction('convertToInteractive',\n",
              "                                                    [key], {});\n",
              "        if (!dataTable) return;\n",
              "\n",
              "        const docLinkHtml = 'Like what you see? Visit the ' +\n",
              "          '<a target=\"_blank\" href=https://colab.research.google.com/notebooks/data_table.ipynb>data table notebook</a>'\n",
              "          + ' to learn more about interactive tables.';\n",
              "        element.innerHTML = '';\n",
              "        dataTable['output_type'] = 'display_data';\n",
              "        await google.colab.output.renderOutput(dataTable, element);\n",
              "        const docLink = document.createElement('div');\n",
              "        docLink.innerHTML = docLinkHtml;\n",
              "        element.appendChild(docLink);\n",
              "      }\n",
              "    </script>\n",
              "  </div>\n",
              "\n",
              "\n",
              "<div id=\"df-9c51eaca-a008-48f1-a1a8-3364e7dbc036\">\n",
              "  <button class=\"colab-df-quickchart\" onclick=\"quickchart('df-9c51eaca-a008-48f1-a1a8-3364e7dbc036')\"\n",
              "            title=\"Suggest charts\"\n",
              "            style=\"display:none;\">\n",
              "\n",
              "<svg xmlns=\"http://www.w3.org/2000/svg\" height=\"24px\"viewBox=\"0 0 24 24\"\n",
              "     width=\"24px\">\n",
              "    <g>\n",
              "        <path d=\"M19 3H5c-1.1 0-2 .9-2 2v14c0 1.1.9 2 2 2h14c1.1 0 2-.9 2-2V5c0-1.1-.9-2-2-2zM9 17H7v-7h2v7zm4 0h-2V7h2v10zm4 0h-2v-4h2v4z\"/>\n",
              "    </g>\n",
              "</svg>\n",
              "  </button>\n",
              "\n",
              "<style>\n",
              "  .colab-df-quickchart {\n",
              "      --bg-color: #E8F0FE;\n",
              "      --fill-color: #1967D2;\n",
              "      --hover-bg-color: #E2EBFA;\n",
              "      --hover-fill-color: #174EA6;\n",
              "      --disabled-fill-color: #AAA;\n",
              "      --disabled-bg-color: #DDD;\n",
              "  }\n",
              "\n",
              "  [theme=dark] .colab-df-quickchart {\n",
              "      --bg-color: #3B4455;\n",
              "      --fill-color: #D2E3FC;\n",
              "      --hover-bg-color: #434B5C;\n",
              "      --hover-fill-color: #FFFFFF;\n",
              "      --disabled-bg-color: #3B4455;\n",
              "      --disabled-fill-color: #666;\n",
              "  }\n",
              "\n",
              "  .colab-df-quickchart {\n",
              "    background-color: var(--bg-color);\n",
              "    border: none;\n",
              "    border-radius: 50%;\n",
              "    cursor: pointer;\n",
              "    display: none;\n",
              "    fill: var(--fill-color);\n",
              "    height: 32px;\n",
              "    padding: 0;\n",
              "    width: 32px;\n",
              "  }\n",
              "\n",
              "  .colab-df-quickchart:hover {\n",
              "    background-color: var(--hover-bg-color);\n",
              "    box-shadow: 0 1px 2px rgba(60, 64, 67, 0.3), 0 1px 3px 1px rgba(60, 64, 67, 0.15);\n",
              "    fill: var(--button-hover-fill-color);\n",
              "  }\n",
              "\n",
              "  .colab-df-quickchart-complete:disabled,\n",
              "  .colab-df-quickchart-complete:disabled:hover {\n",
              "    background-color: var(--disabled-bg-color);\n",
              "    fill: var(--disabled-fill-color);\n",
              "    box-shadow: none;\n",
              "  }\n",
              "\n",
              "  .colab-df-spinner {\n",
              "    border: 2px solid var(--fill-color);\n",
              "    border-color: transparent;\n",
              "    border-bottom-color: var(--fill-color);\n",
              "    animation:\n",
              "      spin 1s steps(1) infinite;\n",
              "  }\n",
              "\n",
              "  @keyframes spin {\n",
              "    0% {\n",
              "      border-color: transparent;\n",
              "      border-bottom-color: var(--fill-color);\n",
              "      border-left-color: var(--fill-color);\n",
              "    }\n",
              "    20% {\n",
              "      border-color: transparent;\n",
              "      border-left-color: var(--fill-color);\n",
              "      border-top-color: var(--fill-color);\n",
              "    }\n",
              "    30% {\n",
              "      border-color: transparent;\n",
              "      border-left-color: var(--fill-color);\n",
              "      border-top-color: var(--fill-color);\n",
              "      border-right-color: var(--fill-color);\n",
              "    }\n",
              "    40% {\n",
              "      border-color: transparent;\n",
              "      border-right-color: var(--fill-color);\n",
              "      border-top-color: var(--fill-color);\n",
              "    }\n",
              "    60% {\n",
              "      border-color: transparent;\n",
              "      border-right-color: var(--fill-color);\n",
              "    }\n",
              "    80% {\n",
              "      border-color: transparent;\n",
              "      border-right-color: var(--fill-color);\n",
              "      border-bottom-color: var(--fill-color);\n",
              "    }\n",
              "    90% {\n",
              "      border-color: transparent;\n",
              "      border-bottom-color: var(--fill-color);\n",
              "    }\n",
              "  }\n",
              "</style>\n",
              "\n",
              "  <script>\n",
              "    async function quickchart(key) {\n",
              "      const quickchartButtonEl =\n",
              "        document.querySelector('#' + key + ' button');\n",
              "      quickchartButtonEl.disabled = true;  // To prevent multiple clicks.\n",
              "      quickchartButtonEl.classList.add('colab-df-spinner');\n",
              "      try {\n",
              "        const charts = await google.colab.kernel.invokeFunction(\n",
              "            'suggestCharts', [key], {});\n",
              "      } catch (error) {\n",
              "        console.error('Error during call to suggestCharts:', error);\n",
              "      }\n",
              "      quickchartButtonEl.classList.remove('colab-df-spinner');\n",
              "      quickchartButtonEl.classList.add('colab-df-quickchart-complete');\n",
              "    }\n",
              "    (() => {\n",
              "      let quickchartButtonEl =\n",
              "        document.querySelector('#df-9c51eaca-a008-48f1-a1a8-3364e7dbc036 button');\n",
              "      quickchartButtonEl.style.display =\n",
              "        google.colab.kernel.accessAllowed ? 'block' : 'none';\n",
              "    })();\n",
              "  </script>\n",
              "</div>\n",
              "    </div>\n",
              "  </div>\n"
            ]
          },
          "metadata": {},
          "execution_count": 11
        }
      ]
    },
    {
      "cell_type": "code",
      "source": [
        "df.corr()['Outcome']"
      ],
      "metadata": {
        "colab": {
          "base_uri": "https://localhost:8080/"
        },
        "id": "iWSgzV8Al33W",
        "outputId": "765699bc-6ae7-4feb-a44f-cb739c7d14cd"
      },
      "execution_count": 12,
      "outputs": [
        {
          "output_type": "execute_result",
          "data": {
            "text/plain": [
              "Pregnancies                 0.221898\n",
              "Glucose                     0.466581\n",
              "BloodPressure               0.065068\n",
              "SkinThickness               0.074752\n",
              "Insulin                     0.130548\n",
              "BMI                         0.292695\n",
              "DiabetesPedigreeFunction    0.173844\n",
              "Age                         0.238356\n",
              "Outcome                     1.000000\n",
              "Name: Outcome, dtype: float64"
            ]
          },
          "metadata": {},
          "execution_count": 12
        }
      ]
    },
    {
      "cell_type": "code",
      "source": [
        "X = df.iloc[:,:-1].values\n",
        "y = df.iloc[:,-1].values"
      ],
      "metadata": {
        "id": "RRsb9R4anYFM"
      },
      "execution_count": 13,
      "outputs": []
    },
    {
      "cell_type": "code",
      "source": [
        "!pip install scikit-learn"
      ],
      "metadata": {
        "colab": {
          "base_uri": "https://localhost:8080/"
        },
        "id": "_Zh47YVooLDK",
        "outputId": "aabf4c7b-0474-4a2d-8a7d-fd4d3b58bcbc"
      },
      "execution_count": 14,
      "outputs": [
        {
          "output_type": "stream",
          "name": "stdout",
          "text": [
            "Requirement already satisfied: scikit-learn in /usr/local/lib/python3.10/dist-packages (1.2.2)\n",
            "Requirement already satisfied: numpy>=1.17.3 in /usr/local/lib/python3.10/dist-packages (from scikit-learn) (1.23.5)\n",
            "Requirement already satisfied: scipy>=1.3.2 in /usr/local/lib/python3.10/dist-packages (from scikit-learn) (1.11.3)\n",
            "Requirement already satisfied: joblib>=1.1.1 in /usr/local/lib/python3.10/dist-packages (from scikit-learn) (1.3.2)\n",
            "Requirement already satisfied: threadpoolctl>=2.0.0 in /usr/local/lib/python3.10/dist-packages (from scikit-learn) (3.2.0)\n"
          ]
        }
      ]
    },
    {
      "cell_type": "code",
      "source": [
        "from sklearn.preprocessing import StandardScaler\n",
        "scaler = StandardScaler()"
      ],
      "metadata": {
        "id": "CjGI6K6unjpn"
      },
      "execution_count": 15,
      "outputs": []
    },
    {
      "cell_type": "code",
      "source": [
        "X = scaler.fit_transform(X)"
      ],
      "metadata": {
        "id": "cfcj6-a-nybH"
      },
      "execution_count": 16,
      "outputs": []
    },
    {
      "cell_type": "code",
      "source": [
        "X.shape"
      ],
      "metadata": {
        "colab": {
          "base_uri": "https://localhost:8080/"
        },
        "id": "bONyZkdkq8zF",
        "outputId": "8af950ca-e291-4ea3-94a2-7da2fdec2b1a"
      },
      "execution_count": 17,
      "outputs": [
        {
          "output_type": "execute_result",
          "data": {
            "text/plain": [
              "(768, 8)"
            ]
          },
          "metadata": {},
          "execution_count": 17
        }
      ]
    },
    {
      "cell_type": "code",
      "source": [
        "from sklearn.model_selection import train_test_split\n",
        "X_train,X_test,y_train,y_test= train_test_split(X,y,test_size=0.2,random_state=1)"
      ],
      "metadata": {
        "id": "nMhGtF9nrMpB"
      },
      "execution_count": 18,
      "outputs": []
    },
    {
      "cell_type": "code",
      "source": [
        "import tensorflow"
      ],
      "metadata": {
        "id": "tK0u_-2lruhG"
      },
      "execution_count": 19,
      "outputs": []
    },
    {
      "cell_type": "code",
      "source": [
        "from tensorflow import keras\n",
        "from keras import Sequential\n",
        "from keras.layers import Dense,Dropout"
      ],
      "metadata": {
        "id": "h_vud2ItsAwy"
      },
      "execution_count": 75,
      "outputs": []
    },
    {
      "cell_type": "code",
      "source": [
        "model = Sequential()\n",
        "model.add(Dense(32,activation='relu',input_dim=8))\n",
        "model.add(Dense(1,activation='sigmoid'))\n",
        "\n",
        "model.compile(optimizer='Adam',loss='binary_crossentropy', metrics=['accuracy'])"
      ],
      "metadata": {
        "id": "G5eKhzrFsNmq"
      },
      "execution_count": 21,
      "outputs": []
    },
    {
      "cell_type": "code",
      "source": [
        "model.fit(X_train,y_train, batch_size=32, epochs=100,validation_data=(X_test,y_test))"
      ],
      "metadata": {
        "colab": {
          "base_uri": "https://localhost:8080/"
        },
        "id": "86DJmKKOsYY-",
        "outputId": "7d8bb35c-7631-437d-9440-4a87457068f4"
      },
      "execution_count": 22,
      "outputs": [
        {
          "output_type": "stream",
          "name": "stdout",
          "text": [
            "Epoch 1/100\n",
            "20/20 [==============================] - 2s 18ms/step - loss: 0.7665 - accuracy: 0.4739 - val_loss: 0.7227 - val_accuracy: 0.5390\n",
            "Epoch 2/100\n",
            "20/20 [==============================] - 0s 4ms/step - loss: 0.6938 - accuracy: 0.6107 - val_loss: 0.6646 - val_accuracy: 0.6623\n",
            "Epoch 3/100\n",
            "20/20 [==============================] - 0s 4ms/step - loss: 0.6431 - accuracy: 0.6873 - val_loss: 0.6198 - val_accuracy: 0.6753\n",
            "Epoch 4/100\n",
            "20/20 [==============================] - 0s 4ms/step - loss: 0.6067 - accuracy: 0.6857 - val_loss: 0.5877 - val_accuracy: 0.6883\n",
            "Epoch 5/100\n",
            "20/20 [==============================] - 0s 4ms/step - loss: 0.5794 - accuracy: 0.6971 - val_loss: 0.5625 - val_accuracy: 0.7143\n",
            "Epoch 6/100\n",
            "20/20 [==============================] - 0s 4ms/step - loss: 0.5571 - accuracy: 0.6954 - val_loss: 0.5434 - val_accuracy: 0.7662\n",
            "Epoch 7/100\n",
            "20/20 [==============================] - 0s 4ms/step - loss: 0.5395 - accuracy: 0.7101 - val_loss: 0.5286 - val_accuracy: 0.7662\n",
            "Epoch 8/100\n",
            "20/20 [==============================] - 0s 4ms/step - loss: 0.5249 - accuracy: 0.7264 - val_loss: 0.5163 - val_accuracy: 0.7792\n",
            "Epoch 9/100\n",
            "20/20 [==============================] - 0s 4ms/step - loss: 0.5130 - accuracy: 0.7459 - val_loss: 0.5067 - val_accuracy: 0.7792\n",
            "Epoch 10/100\n",
            "20/20 [==============================] - 0s 4ms/step - loss: 0.5032 - accuracy: 0.7476 - val_loss: 0.5000 - val_accuracy: 0.7792\n",
            "Epoch 11/100\n",
            "20/20 [==============================] - 0s 4ms/step - loss: 0.4948 - accuracy: 0.7476 - val_loss: 0.4937 - val_accuracy: 0.7857\n",
            "Epoch 12/100\n",
            "20/20 [==============================] - 0s 4ms/step - loss: 0.4881 - accuracy: 0.7557 - val_loss: 0.4886 - val_accuracy: 0.7727\n",
            "Epoch 13/100\n",
            "20/20 [==============================] - 0s 4ms/step - loss: 0.4815 - accuracy: 0.7638 - val_loss: 0.4842 - val_accuracy: 0.7792\n",
            "Epoch 14/100\n",
            "20/20 [==============================] - 0s 4ms/step - loss: 0.4761 - accuracy: 0.7671 - val_loss: 0.4818 - val_accuracy: 0.7922\n",
            "Epoch 15/100\n",
            "20/20 [==============================] - 0s 4ms/step - loss: 0.4712 - accuracy: 0.7769 - val_loss: 0.4795 - val_accuracy: 0.7857\n",
            "Epoch 16/100\n",
            "20/20 [==============================] - 0s 4ms/step - loss: 0.4666 - accuracy: 0.7801 - val_loss: 0.4771 - val_accuracy: 0.7792\n",
            "Epoch 17/100\n",
            "20/20 [==============================] - 0s 4ms/step - loss: 0.4637 - accuracy: 0.7785 - val_loss: 0.4761 - val_accuracy: 0.7792\n",
            "Epoch 18/100\n",
            "20/20 [==============================] - 0s 4ms/step - loss: 0.4606 - accuracy: 0.7834 - val_loss: 0.4736 - val_accuracy: 0.7792\n",
            "Epoch 19/100\n",
            "20/20 [==============================] - 0s 4ms/step - loss: 0.4582 - accuracy: 0.7785 - val_loss: 0.4723 - val_accuracy: 0.7857\n",
            "Epoch 20/100\n",
            "20/20 [==============================] - 0s 4ms/step - loss: 0.4563 - accuracy: 0.7801 - val_loss: 0.4710 - val_accuracy: 0.7857\n",
            "Epoch 21/100\n",
            "20/20 [==============================] - 0s 4ms/step - loss: 0.4547 - accuracy: 0.7785 - val_loss: 0.4707 - val_accuracy: 0.7922\n",
            "Epoch 22/100\n",
            "20/20 [==============================] - 0s 4ms/step - loss: 0.4530 - accuracy: 0.7834 - val_loss: 0.4707 - val_accuracy: 0.7857\n",
            "Epoch 23/100\n",
            "20/20 [==============================] - 0s 4ms/step - loss: 0.4520 - accuracy: 0.7818 - val_loss: 0.4699 - val_accuracy: 0.7857\n",
            "Epoch 24/100\n",
            "20/20 [==============================] - 0s 4ms/step - loss: 0.4507 - accuracy: 0.7818 - val_loss: 0.4698 - val_accuracy: 0.7857\n",
            "Epoch 25/100\n",
            "20/20 [==============================] - 0s 5ms/step - loss: 0.4500 - accuracy: 0.7785 - val_loss: 0.4691 - val_accuracy: 0.7857\n",
            "Epoch 26/100\n",
            "20/20 [==============================] - 0s 4ms/step - loss: 0.4485 - accuracy: 0.7752 - val_loss: 0.4692 - val_accuracy: 0.7857\n",
            "Epoch 27/100\n",
            "20/20 [==============================] - 0s 4ms/step - loss: 0.4482 - accuracy: 0.7801 - val_loss: 0.4701 - val_accuracy: 0.7857\n",
            "Epoch 28/100\n",
            "20/20 [==============================] - 0s 4ms/step - loss: 0.4466 - accuracy: 0.7850 - val_loss: 0.4695 - val_accuracy: 0.7857\n",
            "Epoch 29/100\n",
            "20/20 [==============================] - 0s 4ms/step - loss: 0.4458 - accuracy: 0.7850 - val_loss: 0.4694 - val_accuracy: 0.7857\n",
            "Epoch 30/100\n",
            "20/20 [==============================] - 0s 4ms/step - loss: 0.4452 - accuracy: 0.7818 - val_loss: 0.4695 - val_accuracy: 0.7857\n",
            "Epoch 31/100\n",
            "20/20 [==============================] - 0s 4ms/step - loss: 0.4446 - accuracy: 0.7801 - val_loss: 0.4693 - val_accuracy: 0.7857\n",
            "Epoch 32/100\n",
            "20/20 [==============================] - 0s 8ms/step - loss: 0.4439 - accuracy: 0.7818 - val_loss: 0.4685 - val_accuracy: 0.7857\n",
            "Epoch 33/100\n",
            "20/20 [==============================] - 0s 6ms/step - loss: 0.4438 - accuracy: 0.7850 - val_loss: 0.4684 - val_accuracy: 0.7857\n",
            "Epoch 34/100\n",
            "20/20 [==============================] - 0s 5ms/step - loss: 0.4427 - accuracy: 0.7785 - val_loss: 0.4687 - val_accuracy: 0.7922\n",
            "Epoch 35/100\n",
            "20/20 [==============================] - 0s 5ms/step - loss: 0.4425 - accuracy: 0.7801 - val_loss: 0.4677 - val_accuracy: 0.7922\n",
            "Epoch 36/100\n",
            "20/20 [==============================] - 0s 4ms/step - loss: 0.4415 - accuracy: 0.7785 - val_loss: 0.4677 - val_accuracy: 0.7922\n",
            "Epoch 37/100\n",
            "20/20 [==============================] - 0s 4ms/step - loss: 0.4412 - accuracy: 0.7818 - val_loss: 0.4684 - val_accuracy: 0.7922\n",
            "Epoch 38/100\n",
            "20/20 [==============================] - 0s 4ms/step - loss: 0.4410 - accuracy: 0.7818 - val_loss: 0.4698 - val_accuracy: 0.7922\n",
            "Epoch 39/100\n",
            "20/20 [==============================] - 0s 4ms/step - loss: 0.4408 - accuracy: 0.7818 - val_loss: 0.4682 - val_accuracy: 0.7922\n",
            "Epoch 40/100\n",
            "20/20 [==============================] - 0s 4ms/step - loss: 0.4400 - accuracy: 0.7818 - val_loss: 0.4687 - val_accuracy: 0.7922\n",
            "Epoch 41/100\n",
            "20/20 [==============================] - 0s 4ms/step - loss: 0.4397 - accuracy: 0.7818 - val_loss: 0.4691 - val_accuracy: 0.7987\n",
            "Epoch 42/100\n",
            "20/20 [==============================] - 0s 4ms/step - loss: 0.4394 - accuracy: 0.7818 - val_loss: 0.4669 - val_accuracy: 0.7922\n",
            "Epoch 43/100\n",
            "20/20 [==============================] - 0s 4ms/step - loss: 0.4388 - accuracy: 0.7801 - val_loss: 0.4678 - val_accuracy: 0.7987\n",
            "Epoch 44/100\n",
            "20/20 [==============================] - 0s 4ms/step - loss: 0.4383 - accuracy: 0.7818 - val_loss: 0.4678 - val_accuracy: 0.7922\n",
            "Epoch 45/100\n",
            "20/20 [==============================] - 0s 5ms/step - loss: 0.4377 - accuracy: 0.7801 - val_loss: 0.4680 - val_accuracy: 0.7922\n",
            "Epoch 46/100\n",
            "20/20 [==============================] - 0s 4ms/step - loss: 0.4376 - accuracy: 0.7801 - val_loss: 0.4691 - val_accuracy: 0.7857\n",
            "Epoch 47/100\n",
            "20/20 [==============================] - 0s 4ms/step - loss: 0.4374 - accuracy: 0.7785 - val_loss: 0.4688 - val_accuracy: 0.7857\n",
            "Epoch 48/100\n",
            "20/20 [==============================] - 0s 4ms/step - loss: 0.4372 - accuracy: 0.7769 - val_loss: 0.4691 - val_accuracy: 0.7857\n",
            "Epoch 49/100\n",
            "20/20 [==============================] - 0s 4ms/step - loss: 0.4364 - accuracy: 0.7834 - val_loss: 0.4671 - val_accuracy: 0.7857\n",
            "Epoch 50/100\n",
            "20/20 [==============================] - 0s 4ms/step - loss: 0.4365 - accuracy: 0.7785 - val_loss: 0.4676 - val_accuracy: 0.7857\n",
            "Epoch 51/100\n",
            "20/20 [==============================] - 0s 4ms/step - loss: 0.4355 - accuracy: 0.7834 - val_loss: 0.4656 - val_accuracy: 0.7922\n",
            "Epoch 52/100\n",
            "20/20 [==============================] - 0s 4ms/step - loss: 0.4352 - accuracy: 0.7850 - val_loss: 0.4661 - val_accuracy: 0.7922\n",
            "Epoch 53/100\n",
            "20/20 [==============================] - 0s 4ms/step - loss: 0.4351 - accuracy: 0.7866 - val_loss: 0.4671 - val_accuracy: 0.7857\n",
            "Epoch 54/100\n",
            "20/20 [==============================] - 0s 4ms/step - loss: 0.4349 - accuracy: 0.7834 - val_loss: 0.4668 - val_accuracy: 0.7857\n",
            "Epoch 55/100\n",
            "20/20 [==============================] - 0s 4ms/step - loss: 0.4341 - accuracy: 0.7834 - val_loss: 0.4670 - val_accuracy: 0.7857\n",
            "Epoch 56/100\n",
            "20/20 [==============================] - 0s 5ms/step - loss: 0.4337 - accuracy: 0.7866 - val_loss: 0.4669 - val_accuracy: 0.7857\n",
            "Epoch 57/100\n",
            "20/20 [==============================] - 0s 4ms/step - loss: 0.4338 - accuracy: 0.7883 - val_loss: 0.4664 - val_accuracy: 0.7922\n",
            "Epoch 58/100\n",
            "20/20 [==============================] - 0s 4ms/step - loss: 0.4334 - accuracy: 0.7834 - val_loss: 0.4657 - val_accuracy: 0.7857\n",
            "Epoch 59/100\n",
            "20/20 [==============================] - 0s 4ms/step - loss: 0.4328 - accuracy: 0.7866 - val_loss: 0.4639 - val_accuracy: 0.7857\n",
            "Epoch 60/100\n",
            "20/20 [==============================] - 0s 4ms/step - loss: 0.4330 - accuracy: 0.7866 - val_loss: 0.4648 - val_accuracy: 0.7857\n",
            "Epoch 61/100\n",
            "20/20 [==============================] - 0s 4ms/step - loss: 0.4327 - accuracy: 0.7818 - val_loss: 0.4631 - val_accuracy: 0.7857\n",
            "Epoch 62/100\n",
            "20/20 [==============================] - 0s 4ms/step - loss: 0.4321 - accuracy: 0.7866 - val_loss: 0.4634 - val_accuracy: 0.7857\n",
            "Epoch 63/100\n",
            "20/20 [==============================] - 0s 4ms/step - loss: 0.4317 - accuracy: 0.7866 - val_loss: 0.4643 - val_accuracy: 0.7922\n",
            "Epoch 64/100\n",
            "20/20 [==============================] - 0s 4ms/step - loss: 0.4317 - accuracy: 0.7866 - val_loss: 0.4648 - val_accuracy: 0.7922\n",
            "Epoch 65/100\n",
            "20/20 [==============================] - 0s 4ms/step - loss: 0.4313 - accuracy: 0.7883 - val_loss: 0.4645 - val_accuracy: 0.7922\n",
            "Epoch 66/100\n",
            "20/20 [==============================] - 0s 4ms/step - loss: 0.4313 - accuracy: 0.7850 - val_loss: 0.4635 - val_accuracy: 0.7857\n",
            "Epoch 67/100\n",
            "20/20 [==============================] - 0s 4ms/step - loss: 0.4306 - accuracy: 0.7883 - val_loss: 0.4640 - val_accuracy: 0.7922\n",
            "Epoch 68/100\n",
            "20/20 [==============================] - 0s 4ms/step - loss: 0.4302 - accuracy: 0.7915 - val_loss: 0.4640 - val_accuracy: 0.7857\n",
            "Epoch 69/100\n",
            "20/20 [==============================] - 0s 5ms/step - loss: 0.4307 - accuracy: 0.7915 - val_loss: 0.4642 - val_accuracy: 0.7922\n",
            "Epoch 70/100\n",
            "20/20 [==============================] - 0s 3ms/step - loss: 0.4295 - accuracy: 0.7883 - val_loss: 0.4644 - val_accuracy: 0.7922\n",
            "Epoch 71/100\n",
            "20/20 [==============================] - 0s 4ms/step - loss: 0.4295 - accuracy: 0.7866 - val_loss: 0.4654 - val_accuracy: 0.7922\n",
            "Epoch 72/100\n",
            "20/20 [==============================] - 0s 4ms/step - loss: 0.4292 - accuracy: 0.7883 - val_loss: 0.4634 - val_accuracy: 0.7922\n",
            "Epoch 73/100\n",
            "20/20 [==============================] - 0s 4ms/step - loss: 0.4292 - accuracy: 0.7915 - val_loss: 0.4638 - val_accuracy: 0.7922\n",
            "Epoch 74/100\n",
            "20/20 [==============================] - 0s 4ms/step - loss: 0.4291 - accuracy: 0.7915 - val_loss: 0.4631 - val_accuracy: 0.7987\n",
            "Epoch 75/100\n",
            "20/20 [==============================] - 0s 4ms/step - loss: 0.4284 - accuracy: 0.7866 - val_loss: 0.4632 - val_accuracy: 0.7922\n",
            "Epoch 76/100\n",
            "20/20 [==============================] - 0s 4ms/step - loss: 0.4277 - accuracy: 0.7915 - val_loss: 0.4636 - val_accuracy: 0.7987\n",
            "Epoch 77/100\n",
            "20/20 [==============================] - 0s 4ms/step - loss: 0.4274 - accuracy: 0.7899 - val_loss: 0.4638 - val_accuracy: 0.7922\n",
            "Epoch 78/100\n",
            "20/20 [==============================] - 0s 4ms/step - loss: 0.4271 - accuracy: 0.7899 - val_loss: 0.4651 - val_accuracy: 0.7922\n",
            "Epoch 79/100\n",
            "20/20 [==============================] - 0s 4ms/step - loss: 0.4269 - accuracy: 0.7915 - val_loss: 0.4644 - val_accuracy: 0.7987\n",
            "Epoch 80/100\n",
            "20/20 [==============================] - 0s 4ms/step - loss: 0.4267 - accuracy: 0.7964 - val_loss: 0.4635 - val_accuracy: 0.7922\n",
            "Epoch 81/100\n",
            "20/20 [==============================] - 0s 4ms/step - loss: 0.4255 - accuracy: 0.7948 - val_loss: 0.4639 - val_accuracy: 0.7987\n",
            "Epoch 82/100\n",
            "20/20 [==============================] - 0s 5ms/step - loss: 0.4259 - accuracy: 0.7964 - val_loss: 0.4655 - val_accuracy: 0.8052\n",
            "Epoch 83/100\n",
            "20/20 [==============================] - 0s 9ms/step - loss: 0.4252 - accuracy: 0.7948 - val_loss: 0.4651 - val_accuracy: 0.7987\n",
            "Epoch 84/100\n",
            "20/20 [==============================] - 0s 7ms/step - loss: 0.4252 - accuracy: 0.7948 - val_loss: 0.4644 - val_accuracy: 0.7922\n",
            "Epoch 85/100\n",
            "20/20 [==============================] - 0s 7ms/step - loss: 0.4248 - accuracy: 0.7932 - val_loss: 0.4655 - val_accuracy: 0.7922\n",
            "Epoch 86/100\n",
            "20/20 [==============================] - 0s 8ms/step - loss: 0.4244 - accuracy: 0.7932 - val_loss: 0.4658 - val_accuracy: 0.8052\n",
            "Epoch 87/100\n",
            "20/20 [==============================] - 0s 8ms/step - loss: 0.4247 - accuracy: 0.7948 - val_loss: 0.4654 - val_accuracy: 0.8052\n",
            "Epoch 88/100\n",
            "20/20 [==============================] - 0s 7ms/step - loss: 0.4239 - accuracy: 0.7948 - val_loss: 0.4661 - val_accuracy: 0.8052\n",
            "Epoch 89/100\n",
            "20/20 [==============================] - 0s 9ms/step - loss: 0.4237 - accuracy: 0.7964 - val_loss: 0.4666 - val_accuracy: 0.7987\n",
            "Epoch 90/100\n",
            "20/20 [==============================] - 0s 8ms/step - loss: 0.4235 - accuracy: 0.7948 - val_loss: 0.4664 - val_accuracy: 0.7857\n",
            "Epoch 91/100\n",
            "20/20 [==============================] - 0s 10ms/step - loss: 0.4240 - accuracy: 0.7899 - val_loss: 0.4652 - val_accuracy: 0.7857\n",
            "Epoch 92/100\n",
            "20/20 [==============================] - 0s 17ms/step - loss: 0.4230 - accuracy: 0.7964 - val_loss: 0.4658 - val_accuracy: 0.7987\n",
            "Epoch 93/100\n",
            "20/20 [==============================] - 0s 14ms/step - loss: 0.4230 - accuracy: 0.7948 - val_loss: 0.4652 - val_accuracy: 0.7987\n",
            "Epoch 94/100\n",
            "20/20 [==============================] - 0s 9ms/step - loss: 0.4224 - accuracy: 0.7980 - val_loss: 0.4648 - val_accuracy: 0.7922\n",
            "Epoch 95/100\n",
            "20/20 [==============================] - 0s 7ms/step - loss: 0.4219 - accuracy: 0.7948 - val_loss: 0.4650 - val_accuracy: 0.7987\n",
            "Epoch 96/100\n",
            "20/20 [==============================] - 0s 18ms/step - loss: 0.4220 - accuracy: 0.7932 - val_loss: 0.4639 - val_accuracy: 0.7987\n",
            "Epoch 97/100\n",
            "20/20 [==============================] - 0s 12ms/step - loss: 0.4211 - accuracy: 0.7980 - val_loss: 0.4641 - val_accuracy: 0.7987\n",
            "Epoch 98/100\n",
            "20/20 [==============================] - 0s 16ms/step - loss: 0.4213 - accuracy: 0.7964 - val_loss: 0.4636 - val_accuracy: 0.7987\n",
            "Epoch 99/100\n",
            "20/20 [==============================] - 0s 19ms/step - loss: 0.4214 - accuracy: 0.7964 - val_loss: 0.4647 - val_accuracy: 0.7987\n",
            "Epoch 100/100\n",
            "20/20 [==============================] - 0s 13ms/step - loss: 0.4206 - accuracy: 0.8013 - val_loss: 0.4641 - val_accuracy: 0.7987\n"
          ]
        },
        {
          "output_type": "execute_result",
          "data": {
            "text/plain": [
              "<keras.src.callbacks.History at 0x78b9d06ea0b0>"
            ]
          },
          "metadata": {},
          "execution_count": 22
        }
      ]
    },
    {
      "cell_type": "code",
      "source": [
        "# 1. how to select appropriate optimizer\n",
        "# 2. No, of nodes in a layer\n",
        "# 3. how to select no. of layers\n",
        "# 4. All in all one model"
      ],
      "metadata": {
        "id": "cnbnRXqhtRFm"
      },
      "execution_count": 23,
      "outputs": []
    },
    {
      "cell_type": "code",
      "source": [
        "pip install -U keras-tuner"
      ],
      "metadata": {
        "colab": {
          "base_uri": "https://localhost:8080/"
        },
        "id": "OMbIBzFL2YPE",
        "outputId": "be0cd895-2ada-4cdb-94b5-24c63531e53c"
      },
      "execution_count": 24,
      "outputs": [
        {
          "output_type": "stream",
          "name": "stdout",
          "text": [
            "Requirement already satisfied: keras-tuner in /usr/local/lib/python3.10/dist-packages (1.4.6)\n",
            "Requirement already satisfied: keras in /usr/local/lib/python3.10/dist-packages (from keras-tuner) (2.14.0)\n",
            "Requirement already satisfied: packaging in /usr/local/lib/python3.10/dist-packages (from keras-tuner) (23.2)\n",
            "Requirement already satisfied: requests in /usr/local/lib/python3.10/dist-packages (from keras-tuner) (2.31.0)\n",
            "Requirement already satisfied: kt-legacy in /usr/local/lib/python3.10/dist-packages (from keras-tuner) (1.0.5)\n",
            "Requirement already satisfied: charset-normalizer<4,>=2 in /usr/local/lib/python3.10/dist-packages (from requests->keras-tuner) (3.3.2)\n",
            "Requirement already satisfied: idna<4,>=2.5 in /usr/local/lib/python3.10/dist-packages (from requests->keras-tuner) (3.4)\n",
            "Requirement already satisfied: urllib3<3,>=1.21.1 in /usr/local/lib/python3.10/dist-packages (from requests->keras-tuner) (2.0.7)\n",
            "Requirement already satisfied: certifi>=2017.4.17 in /usr/local/lib/python3.10/dist-packages (from requests->keras-tuner) (2023.7.22)\n"
          ]
        }
      ]
    },
    {
      "cell_type": "code",
      "source": [
        "import kerastuner as kt"
      ],
      "metadata": {
        "id": "-a2oJa3J2CN6"
      },
      "execution_count": 25,
      "outputs": []
    },
    {
      "cell_type": "code",
      "source": [
        "def build_model(hp):\n",
        "\n",
        "  model = Sequential()\n",
        "\n",
        "  model.add(Dense(32,activation='relu',input_dim=8))\n",
        "  model.add(Dense(1,activation='sigmoid'))\n",
        "\n",
        "  optimizer=hp.Choice('optimizer',values = ['adam','sdg','rmsprop','adadelta'])\n",
        "\n",
        "  model.compile(optimizer=optimizer, loss='binary_crossentropy',metrics=['accuracy'])\n",
        "\n",
        "  return model"
      ],
      "metadata": {
        "id": "OrEQtiaL2VfG"
      },
      "execution_count": 26,
      "outputs": []
    },
    {
      "cell_type": "code",
      "source": [
        "tuner = kt.RandomSearch(build_model,\n",
        "                        objective='val_accuracy',\n",
        "                        max_trials=5)"
      ],
      "metadata": {
        "id": "gs8x6e1741A_"
      },
      "execution_count": 27,
      "outputs": []
    },
    {
      "cell_type": "code",
      "source": [
        "tuner.search(X_train,y_train,epochs=5,validation_data=(X_test,y_test))"
      ],
      "metadata": {
        "colab": {
          "base_uri": "https://localhost:8080/"
        },
        "id": "qQUhAa1m5Q6b",
        "outputId": "3b2e72f7-97de-45fc-98c7-db90d704311d"
      },
      "execution_count": 28,
      "outputs": [
        {
          "output_type": "stream",
          "name": "stdout",
          "text": [
            "Trial 4 Complete [00h 00m 02s]\n",
            "val_accuracy: 0.7727272510528564\n",
            "\n",
            "Best val_accuracy So Far: 0.7727272510528564\n",
            "Total elapsed time: 00h 00m 07s\n"
          ]
        }
      ]
    },
    {
      "cell_type": "code",
      "source": [
        "tuner.get_best_hyperparameters()[0].values"
      ],
      "metadata": {
        "colab": {
          "base_uri": "https://localhost:8080/"
        },
        "id": "K0D1CTMU5yXR",
        "outputId": "5d3f385c-7dfe-46f3-f810-ae26d32e6a74"
      },
      "execution_count": 29,
      "outputs": [
        {
          "output_type": "execute_result",
          "data": {
            "text/plain": [
              "{'optimizer': 'rmsprop'}"
            ]
          },
          "metadata": {},
          "execution_count": 29
        }
      ]
    },
    {
      "cell_type": "code",
      "source": [
        "model = tuner.get_best_models(num_models=1)[0]"
      ],
      "metadata": {
        "id": "GAqigpeg6YLn"
      },
      "execution_count": 30,
      "outputs": []
    },
    {
      "cell_type": "code",
      "source": [
        "model.summary()"
      ],
      "metadata": {
        "colab": {
          "base_uri": "https://localhost:8080/"
        },
        "id": "RiNQl_oI6grS",
        "outputId": "5f552a3c-726b-4973-bf91-313000188c45"
      },
      "execution_count": 31,
      "outputs": [
        {
          "output_type": "stream",
          "name": "stdout",
          "text": [
            "Model: \"sequential\"\n",
            "_________________________________________________________________\n",
            " Layer (type)                Output Shape              Param #   \n",
            "=================================================================\n",
            " dense (Dense)               (None, 32)                288       \n",
            "                                                                 \n",
            " dense_1 (Dense)             (None, 1)                 33        \n",
            "                                                                 \n",
            "=================================================================\n",
            "Total params: 321 (1.25 KB)\n",
            "Trainable params: 321 (1.25 KB)\n",
            "Non-trainable params: 0 (0.00 Byte)\n",
            "_________________________________________________________________\n"
          ]
        }
      ]
    },
    {
      "cell_type": "code",
      "source": [
        "model.fit(X_train,y_train,batch_size=32,epochs=100,initial_epoch=6,validation_data=(X_test,y_test))"
      ],
      "metadata": {
        "colab": {
          "base_uri": "https://localhost:8080/"
        },
        "id": "zFj4WFO-6iwf",
        "outputId": "069e7976-12bd-4341-d999-b7e564cc90b7"
      },
      "execution_count": 32,
      "outputs": [
        {
          "output_type": "stream",
          "name": "stdout",
          "text": [
            "Epoch 7/100\n",
            "20/20 [==============================] - 1s 18ms/step - loss: 0.5332 - accuracy: 0.7427 - val_loss: 0.5156 - val_accuracy: 0.7727\n",
            "Epoch 8/100\n",
            "20/20 [==============================] - 0s 10ms/step - loss: 0.5183 - accuracy: 0.7524 - val_loss: 0.5027 - val_accuracy: 0.7922\n",
            "Epoch 9/100\n",
            "20/20 [==============================] - 0s 5ms/step - loss: 0.5062 - accuracy: 0.7638 - val_loss: 0.4946 - val_accuracy: 0.7987\n",
            "Epoch 10/100\n",
            "20/20 [==============================] - 0s 5ms/step - loss: 0.4969 - accuracy: 0.7704 - val_loss: 0.4868 - val_accuracy: 0.7922\n",
            "Epoch 11/100\n",
            "20/20 [==============================] - 0s 5ms/step - loss: 0.4895 - accuracy: 0.7720 - val_loss: 0.4804 - val_accuracy: 0.7922\n",
            "Epoch 12/100\n",
            "20/20 [==============================] - 0s 5ms/step - loss: 0.4827 - accuracy: 0.7801 - val_loss: 0.4752 - val_accuracy: 0.7922\n",
            "Epoch 13/100\n",
            "20/20 [==============================] - 0s 6ms/step - loss: 0.4772 - accuracy: 0.7818 - val_loss: 0.4721 - val_accuracy: 0.7922\n",
            "Epoch 14/100\n",
            "20/20 [==============================] - 0s 7ms/step - loss: 0.4725 - accuracy: 0.7785 - val_loss: 0.4703 - val_accuracy: 0.7987\n",
            "Epoch 15/100\n",
            "20/20 [==============================] - 0s 6ms/step - loss: 0.4687 - accuracy: 0.7850 - val_loss: 0.4687 - val_accuracy: 0.7922\n",
            "Epoch 16/100\n",
            "20/20 [==============================] - 0s 5ms/step - loss: 0.4661 - accuracy: 0.7866 - val_loss: 0.4672 - val_accuracy: 0.7857\n",
            "Epoch 17/100\n",
            "20/20 [==============================] - 0s 6ms/step - loss: 0.4635 - accuracy: 0.7866 - val_loss: 0.4650 - val_accuracy: 0.7792\n",
            "Epoch 18/100\n",
            "20/20 [==============================] - 0s 6ms/step - loss: 0.4617 - accuracy: 0.7818 - val_loss: 0.4648 - val_accuracy: 0.7792\n",
            "Epoch 19/100\n",
            "20/20 [==============================] - 0s 5ms/step - loss: 0.4595 - accuracy: 0.7850 - val_loss: 0.4631 - val_accuracy: 0.7792\n",
            "Epoch 20/100\n",
            "20/20 [==============================] - 0s 4ms/step - loss: 0.4582 - accuracy: 0.7850 - val_loss: 0.4638 - val_accuracy: 0.7857\n",
            "Epoch 21/100\n",
            "20/20 [==============================] - 0s 4ms/step - loss: 0.4569 - accuracy: 0.7883 - val_loss: 0.4640 - val_accuracy: 0.7857\n",
            "Epoch 22/100\n",
            "20/20 [==============================] - 0s 4ms/step - loss: 0.4553 - accuracy: 0.7866 - val_loss: 0.4630 - val_accuracy: 0.7857\n",
            "Epoch 23/100\n",
            "20/20 [==============================] - 0s 4ms/step - loss: 0.4543 - accuracy: 0.7883 - val_loss: 0.4635 - val_accuracy: 0.7922\n",
            "Epoch 24/100\n",
            "20/20 [==============================] - 0s 4ms/step - loss: 0.4534 - accuracy: 0.7834 - val_loss: 0.4632 - val_accuracy: 0.7922\n",
            "Epoch 25/100\n",
            "20/20 [==============================] - 0s 5ms/step - loss: 0.4522 - accuracy: 0.7883 - val_loss: 0.4623 - val_accuracy: 0.7987\n",
            "Epoch 26/100\n",
            "20/20 [==============================] - 0s 4ms/step - loss: 0.4511 - accuracy: 0.7850 - val_loss: 0.4619 - val_accuracy: 0.7987\n",
            "Epoch 27/100\n",
            "20/20 [==============================] - 0s 5ms/step - loss: 0.4509 - accuracy: 0.7834 - val_loss: 0.4615 - val_accuracy: 0.7922\n",
            "Epoch 28/100\n",
            "20/20 [==============================] - 0s 4ms/step - loss: 0.4497 - accuracy: 0.7866 - val_loss: 0.4616 - val_accuracy: 0.7857\n",
            "Epoch 29/100\n",
            "20/20 [==============================] - 0s 4ms/step - loss: 0.4491 - accuracy: 0.7850 - val_loss: 0.4613 - val_accuracy: 0.7857\n",
            "Epoch 30/100\n",
            "20/20 [==============================] - 0s 4ms/step - loss: 0.4481 - accuracy: 0.7850 - val_loss: 0.4607 - val_accuracy: 0.7857\n",
            "Epoch 31/100\n",
            "20/20 [==============================] - 0s 4ms/step - loss: 0.4474 - accuracy: 0.7915 - val_loss: 0.4600 - val_accuracy: 0.7857\n",
            "Epoch 32/100\n",
            "20/20 [==============================] - 0s 4ms/step - loss: 0.4473 - accuracy: 0.7932 - val_loss: 0.4610 - val_accuracy: 0.7857\n",
            "Epoch 33/100\n",
            "20/20 [==============================] - 0s 4ms/step - loss: 0.4463 - accuracy: 0.7915 - val_loss: 0.4619 - val_accuracy: 0.7857\n",
            "Epoch 34/100\n",
            "20/20 [==============================] - 0s 6ms/step - loss: 0.4461 - accuracy: 0.7899 - val_loss: 0.4626 - val_accuracy: 0.7857\n",
            "Epoch 35/100\n",
            "20/20 [==============================] - 0s 5ms/step - loss: 0.4452 - accuracy: 0.7883 - val_loss: 0.4622 - val_accuracy: 0.7857\n",
            "Epoch 36/100\n",
            "20/20 [==============================] - 0s 6ms/step - loss: 0.4448 - accuracy: 0.7883 - val_loss: 0.4610 - val_accuracy: 0.7857\n",
            "Epoch 37/100\n",
            "20/20 [==============================] - 0s 4ms/step - loss: 0.4440 - accuracy: 0.7899 - val_loss: 0.4606 - val_accuracy: 0.7857\n",
            "Epoch 38/100\n",
            "20/20 [==============================] - 0s 4ms/step - loss: 0.4436 - accuracy: 0.7915 - val_loss: 0.4610 - val_accuracy: 0.7857\n",
            "Epoch 39/100\n",
            "20/20 [==============================] - 0s 4ms/step - loss: 0.4428 - accuracy: 0.7883 - val_loss: 0.4614 - val_accuracy: 0.7857\n",
            "Epoch 40/100\n",
            "20/20 [==============================] - 0s 4ms/step - loss: 0.4430 - accuracy: 0.7899 - val_loss: 0.4612 - val_accuracy: 0.7857\n",
            "Epoch 41/100\n",
            "20/20 [==============================] - 0s 4ms/step - loss: 0.4418 - accuracy: 0.7899 - val_loss: 0.4614 - val_accuracy: 0.7857\n",
            "Epoch 42/100\n",
            "20/20 [==============================] - 0s 4ms/step - loss: 0.4413 - accuracy: 0.7915 - val_loss: 0.4608 - val_accuracy: 0.7857\n",
            "Epoch 43/100\n",
            "20/20 [==============================] - 0s 4ms/step - loss: 0.4407 - accuracy: 0.7932 - val_loss: 0.4599 - val_accuracy: 0.7857\n",
            "Epoch 44/100\n",
            "20/20 [==============================] - 0s 4ms/step - loss: 0.4400 - accuracy: 0.7883 - val_loss: 0.4598 - val_accuracy: 0.7857\n",
            "Epoch 45/100\n",
            "20/20 [==============================] - 0s 4ms/step - loss: 0.4398 - accuracy: 0.7948 - val_loss: 0.4602 - val_accuracy: 0.7857\n",
            "Epoch 46/100\n",
            "20/20 [==============================] - 0s 4ms/step - loss: 0.4393 - accuracy: 0.7932 - val_loss: 0.4592 - val_accuracy: 0.7922\n",
            "Epoch 47/100\n",
            "20/20 [==============================] - 0s 4ms/step - loss: 0.4388 - accuracy: 0.7932 - val_loss: 0.4585 - val_accuracy: 0.7922\n",
            "Epoch 48/100\n",
            "20/20 [==============================] - 0s 4ms/step - loss: 0.4383 - accuracy: 0.7883 - val_loss: 0.4593 - val_accuracy: 0.7922\n",
            "Epoch 49/100\n",
            "20/20 [==============================] - 0s 4ms/step - loss: 0.4380 - accuracy: 0.7948 - val_loss: 0.4596 - val_accuracy: 0.7922\n",
            "Epoch 50/100\n",
            "20/20 [==============================] - 0s 5ms/step - loss: 0.4377 - accuracy: 0.7932 - val_loss: 0.4596 - val_accuracy: 0.7922\n",
            "Epoch 51/100\n",
            "20/20 [==============================] - 0s 4ms/step - loss: 0.4371 - accuracy: 0.7948 - val_loss: 0.4597 - val_accuracy: 0.7922\n",
            "Epoch 52/100\n",
            "20/20 [==============================] - 0s 4ms/step - loss: 0.4369 - accuracy: 0.7948 - val_loss: 0.4599 - val_accuracy: 0.7922\n",
            "Epoch 53/100\n",
            "20/20 [==============================] - 0s 4ms/step - loss: 0.4360 - accuracy: 0.7948 - val_loss: 0.4613 - val_accuracy: 0.7857\n",
            "Epoch 54/100\n",
            "20/20 [==============================] - 0s 4ms/step - loss: 0.4354 - accuracy: 0.7964 - val_loss: 0.4604 - val_accuracy: 0.7922\n",
            "Epoch 55/100\n",
            "20/20 [==============================] - 0s 4ms/step - loss: 0.4355 - accuracy: 0.7932 - val_loss: 0.4608 - val_accuracy: 0.7857\n",
            "Epoch 56/100\n",
            "20/20 [==============================] - 0s 4ms/step - loss: 0.4347 - accuracy: 0.7980 - val_loss: 0.4599 - val_accuracy: 0.7987\n",
            "Epoch 57/100\n",
            "20/20 [==============================] - 0s 5ms/step - loss: 0.4344 - accuracy: 0.7932 - val_loss: 0.4605 - val_accuracy: 0.7987\n",
            "Epoch 58/100\n",
            "20/20 [==============================] - 0s 4ms/step - loss: 0.4340 - accuracy: 0.7899 - val_loss: 0.4612 - val_accuracy: 0.7922\n",
            "Epoch 59/100\n",
            "20/20 [==============================] - 0s 4ms/step - loss: 0.4333 - accuracy: 0.7980 - val_loss: 0.4616 - val_accuracy: 0.7922\n",
            "Epoch 60/100\n",
            "20/20 [==============================] - 0s 4ms/step - loss: 0.4331 - accuracy: 0.7948 - val_loss: 0.4623 - val_accuracy: 0.7987\n",
            "Epoch 61/100\n",
            "20/20 [==============================] - 0s 5ms/step - loss: 0.4327 - accuracy: 0.7980 - val_loss: 0.4619 - val_accuracy: 0.7922\n",
            "Epoch 62/100\n",
            "20/20 [==============================] - 0s 4ms/step - loss: 0.4322 - accuracy: 0.7980 - val_loss: 0.4618 - val_accuracy: 0.7987\n",
            "Epoch 63/100\n",
            "20/20 [==============================] - 0s 4ms/step - loss: 0.4320 - accuracy: 0.7964 - val_loss: 0.4607 - val_accuracy: 0.7987\n",
            "Epoch 64/100\n",
            "20/20 [==============================] - 0s 4ms/step - loss: 0.4313 - accuracy: 0.7899 - val_loss: 0.4610 - val_accuracy: 0.7987\n",
            "Epoch 65/100\n",
            "20/20 [==============================] - 0s 4ms/step - loss: 0.4314 - accuracy: 0.7980 - val_loss: 0.4609 - val_accuracy: 0.7987\n",
            "Epoch 66/100\n",
            "20/20 [==============================] - 0s 4ms/step - loss: 0.4307 - accuracy: 0.7964 - val_loss: 0.4612 - val_accuracy: 0.7987\n",
            "Epoch 67/100\n",
            "20/20 [==============================] - 0s 4ms/step - loss: 0.4303 - accuracy: 0.7997 - val_loss: 0.4608 - val_accuracy: 0.8117\n",
            "Epoch 68/100\n",
            "20/20 [==============================] - 0s 4ms/step - loss: 0.4299 - accuracy: 0.7948 - val_loss: 0.4622 - val_accuracy: 0.7922\n",
            "Epoch 69/100\n",
            "20/20 [==============================] - 0s 4ms/step - loss: 0.4296 - accuracy: 0.7932 - val_loss: 0.4621 - val_accuracy: 0.7922\n",
            "Epoch 70/100\n",
            "20/20 [==============================] - 0s 4ms/step - loss: 0.4294 - accuracy: 0.7932 - val_loss: 0.4629 - val_accuracy: 0.7987\n",
            "Epoch 71/100\n",
            "20/20 [==============================] - 0s 6ms/step - loss: 0.4288 - accuracy: 0.7997 - val_loss: 0.4623 - val_accuracy: 0.7987\n",
            "Epoch 72/100\n",
            "20/20 [==============================] - 0s 9ms/step - loss: 0.4285 - accuracy: 0.7948 - val_loss: 0.4620 - val_accuracy: 0.7987\n",
            "Epoch 73/100\n",
            "20/20 [==============================] - 0s 6ms/step - loss: 0.4281 - accuracy: 0.7980 - val_loss: 0.4626 - val_accuracy: 0.7987\n",
            "Epoch 74/100\n",
            "20/20 [==============================] - 0s 6ms/step - loss: 0.4279 - accuracy: 0.7932 - val_loss: 0.4620 - val_accuracy: 0.8052\n",
            "Epoch 75/100\n",
            "20/20 [==============================] - 0s 8ms/step - loss: 0.4274 - accuracy: 0.7932 - val_loss: 0.4613 - val_accuracy: 0.8052\n",
            "Epoch 76/100\n",
            "20/20 [==============================] - 0s 10ms/step - loss: 0.4269 - accuracy: 0.7948 - val_loss: 0.4614 - val_accuracy: 0.8117\n",
            "Epoch 77/100\n",
            "20/20 [==============================] - 0s 9ms/step - loss: 0.4266 - accuracy: 0.7964 - val_loss: 0.4607 - val_accuracy: 0.8117\n",
            "Epoch 78/100\n",
            "20/20 [==============================] - 0s 7ms/step - loss: 0.4265 - accuracy: 0.8029 - val_loss: 0.4614 - val_accuracy: 0.8117\n",
            "Epoch 79/100\n",
            "20/20 [==============================] - 0s 7ms/step - loss: 0.4262 - accuracy: 0.7964 - val_loss: 0.4623 - val_accuracy: 0.8052\n",
            "Epoch 80/100\n",
            "20/20 [==============================] - 0s 11ms/step - loss: 0.4258 - accuracy: 0.7980 - val_loss: 0.4624 - val_accuracy: 0.8052\n",
            "Epoch 81/100\n",
            "20/20 [==============================] - 0s 8ms/step - loss: 0.4259 - accuracy: 0.8013 - val_loss: 0.4620 - val_accuracy: 0.8052\n",
            "Epoch 82/100\n",
            "20/20 [==============================] - 0s 8ms/step - loss: 0.4249 - accuracy: 0.7948 - val_loss: 0.4623 - val_accuracy: 0.7987\n",
            "Epoch 83/100\n",
            "20/20 [==============================] - 0s 8ms/step - loss: 0.4249 - accuracy: 0.7980 - val_loss: 0.4634 - val_accuracy: 0.7987\n",
            "Epoch 84/100\n",
            "20/20 [==============================] - 0s 7ms/step - loss: 0.4248 - accuracy: 0.7948 - val_loss: 0.4639 - val_accuracy: 0.7987\n",
            "Epoch 85/100\n",
            "20/20 [==============================] - 0s 17ms/step - loss: 0.4245 - accuracy: 0.7948 - val_loss: 0.4639 - val_accuracy: 0.7987\n",
            "Epoch 86/100\n",
            "20/20 [==============================] - 0s 9ms/step - loss: 0.4242 - accuracy: 0.8013 - val_loss: 0.4642 - val_accuracy: 0.7987\n",
            "Epoch 87/100\n",
            "20/20 [==============================] - 0s 8ms/step - loss: 0.4235 - accuracy: 0.7980 - val_loss: 0.4642 - val_accuracy: 0.8052\n",
            "Epoch 88/100\n",
            "20/20 [==============================] - 0s 10ms/step - loss: 0.4235 - accuracy: 0.7948 - val_loss: 0.4645 - val_accuracy: 0.8052\n",
            "Epoch 89/100\n",
            "20/20 [==============================] - 0s 7ms/step - loss: 0.4230 - accuracy: 0.7980 - val_loss: 0.4643 - val_accuracy: 0.8052\n",
            "Epoch 90/100\n",
            "20/20 [==============================] - 0s 7ms/step - loss: 0.4229 - accuracy: 0.8046 - val_loss: 0.4649 - val_accuracy: 0.8052\n",
            "Epoch 91/100\n",
            "20/20 [==============================] - 0s 8ms/step - loss: 0.4224 - accuracy: 0.8013 - val_loss: 0.4649 - val_accuracy: 0.8052\n",
            "Epoch 92/100\n",
            "20/20 [==============================] - 0s 7ms/step - loss: 0.4224 - accuracy: 0.8013 - val_loss: 0.4641 - val_accuracy: 0.8052\n",
            "Epoch 93/100\n",
            "20/20 [==============================] - 0s 7ms/step - loss: 0.4218 - accuracy: 0.7964 - val_loss: 0.4641 - val_accuracy: 0.8052\n",
            "Epoch 94/100\n",
            "20/20 [==============================] - 0s 10ms/step - loss: 0.4215 - accuracy: 0.8029 - val_loss: 0.4648 - val_accuracy: 0.8052\n",
            "Epoch 95/100\n",
            "20/20 [==============================] - 0s 10ms/step - loss: 0.4214 - accuracy: 0.7980 - val_loss: 0.4653 - val_accuracy: 0.8052\n",
            "Epoch 96/100\n",
            "20/20 [==============================] - 0s 6ms/step - loss: 0.4211 - accuracy: 0.8013 - val_loss: 0.4661 - val_accuracy: 0.7987\n",
            "Epoch 97/100\n",
            "20/20 [==============================] - 0s 6ms/step - loss: 0.4207 - accuracy: 0.8029 - val_loss: 0.4665 - val_accuracy: 0.8052\n",
            "Epoch 98/100\n",
            "20/20 [==============================] - 0s 6ms/step - loss: 0.4204 - accuracy: 0.8062 - val_loss: 0.4654 - val_accuracy: 0.8052\n",
            "Epoch 99/100\n",
            "20/20 [==============================] - 0s 9ms/step - loss: 0.4206 - accuracy: 0.8046 - val_loss: 0.4663 - val_accuracy: 0.7987\n",
            "Epoch 100/100\n",
            "20/20 [==============================] - 0s 8ms/step - loss: 0.4199 - accuracy: 0.7980 - val_loss: 0.4661 - val_accuracy: 0.8052\n"
          ]
        },
        {
          "output_type": "execute_result",
          "data": {
            "text/plain": [
              "<keras.src.callbacks.History at 0x78b9d03e7b20>"
            ]
          },
          "metadata": {},
          "execution_count": 32
        }
      ]
    },
    {
      "cell_type": "code",
      "source": [
        "#to find no of neuron"
      ],
      "metadata": {
        "id": "aJpQ8FYC7PXw"
      },
      "execution_count": 33,
      "outputs": []
    },
    {
      "cell_type": "code",
      "source": [
        "def build_model(hp):\n",
        "\n",
        "  model = Sequential()\n",
        "\n",
        "  #units = hp.Int('units',min_value = 8,max_value = 128,step=8)\n",
        "  units = hp.Int('units',min_value = 8,max_value = 128)\n",
        "\n",
        "  model.add(Dense(units=units, activation='relu',input_dim=8))\n",
        "  model.add(Dense(1,activation='sigmoid'))\n",
        "\n",
        "  model.compile(optimizer='rmsprop',loss='binary_crossentropy',metrics=['accuracy'])\n",
        "\n",
        "  return model"
      ],
      "metadata": {
        "id": "fCUXAjrI8UJl"
      },
      "execution_count": 49,
      "outputs": []
    },
    {
      "cell_type": "code",
      "source": [
        "tuner = kt.RandomSearch(build_model,\n",
        "                        objective='val_accuracy',\n",
        "                        max_trials=5,\n",
        "                        directory='mydir',\n",
        "                        project_name='KerasDemo')"
      ],
      "metadata": {
        "colab": {
          "base_uri": "https://localhost:8080/"
        },
        "id": "pFsiYeI1_GRe",
        "outputId": "775c141d-d4d8-46ae-db6c-e3f3612643c2"
      },
      "execution_count": 50,
      "outputs": [
        {
          "output_type": "stream",
          "name": "stdout",
          "text": [
            "Reloading Tuner from mydir/KerasDemo/tuner0.json\n"
          ]
        }
      ]
    },
    {
      "cell_type": "code",
      "source": [
        "tuner.search(X_train,y_train,epochs=5,validation_data=(X_test,y_test))"
      ],
      "metadata": {
        "id": "sXZaFCNOAPlN"
      },
      "execution_count": 51,
      "outputs": []
    },
    {
      "cell_type": "code",
      "source": [
        "tuner.get_best_hyperparameters()[0].values"
      ],
      "metadata": {
        "colab": {
          "base_uri": "https://localhost:8080/"
        },
        "id": "6B6S9UpXAssq",
        "outputId": "62c97667-802c-44d1-db92-03d46182a610"
      },
      "execution_count": 52,
      "outputs": [
        {
          "output_type": "execute_result",
          "data": {
            "text/plain": [
              "{'units': 120}"
            ]
          },
          "metadata": {},
          "execution_count": 52
        }
      ]
    },
    {
      "cell_type": "code",
      "source": [
        "model = tuner.get_best_models(num_models=1)[0]"
      ],
      "metadata": {
        "id": "AOq5wR2Ej_-Y"
      },
      "execution_count": 53,
      "outputs": []
    },
    {
      "cell_type": "code",
      "source": [
        "model.fit(X_train,y_train,batch_size=32,epochs=100,initial_epoch=6)"
      ],
      "metadata": {
        "colab": {
          "base_uri": "https://localhost:8080/"
        },
        "id": "DXbZ7zU7kH8q",
        "outputId": "549a303b-18c0-43a4-c24b-6ba0fd706d1c"
      },
      "execution_count": 54,
      "outputs": [
        {
          "output_type": "stream",
          "name": "stdout",
          "text": [
            "Epoch 7/100\n",
            "20/20 [==============================] - 1s 2ms/step - loss: 0.5115 - accuracy: 0.7785\n",
            "Epoch 8/100\n",
            "20/20 [==============================] - 0s 2ms/step - loss: 0.4898 - accuracy: 0.7834\n",
            "Epoch 9/100\n",
            "20/20 [==============================] - 0s 2ms/step - loss: 0.4761 - accuracy: 0.7883\n",
            "Epoch 10/100\n",
            "20/20 [==============================] - 0s 2ms/step - loss: 0.4675 - accuracy: 0.7899\n",
            "Epoch 11/100\n",
            "20/20 [==============================] - 0s 2ms/step - loss: 0.4615 - accuracy: 0.7785\n",
            "Epoch 12/100\n",
            "20/20 [==============================] - 0s 2ms/step - loss: 0.4569 - accuracy: 0.7883\n",
            "Epoch 13/100\n",
            "20/20 [==============================] - 0s 2ms/step - loss: 0.4541 - accuracy: 0.7866\n",
            "Epoch 14/100\n",
            "20/20 [==============================] - 0s 3ms/step - loss: 0.4513 - accuracy: 0.7769\n",
            "Epoch 15/100\n",
            "20/20 [==============================] - 0s 2ms/step - loss: 0.4493 - accuracy: 0.7801\n",
            "Epoch 16/100\n",
            "20/20 [==============================] - 0s 2ms/step - loss: 0.4473 - accuracy: 0.7850\n",
            "Epoch 17/100\n",
            "20/20 [==============================] - 0s 2ms/step - loss: 0.4456 - accuracy: 0.7883\n",
            "Epoch 18/100\n",
            "20/20 [==============================] - 0s 2ms/step - loss: 0.4444 - accuracy: 0.7850\n",
            "Epoch 19/100\n",
            "20/20 [==============================] - 0s 2ms/step - loss: 0.4429 - accuracy: 0.7801\n",
            "Epoch 20/100\n",
            "20/20 [==============================] - 0s 2ms/step - loss: 0.4416 - accuracy: 0.7866\n",
            "Epoch 21/100\n",
            "20/20 [==============================] - 0s 2ms/step - loss: 0.4408 - accuracy: 0.7818\n",
            "Epoch 22/100\n",
            "20/20 [==============================] - 0s 2ms/step - loss: 0.4402 - accuracy: 0.7834\n",
            "Epoch 23/100\n",
            "20/20 [==============================] - 0s 2ms/step - loss: 0.4388 - accuracy: 0.7834\n",
            "Epoch 24/100\n",
            "20/20 [==============================] - 0s 2ms/step - loss: 0.4378 - accuracy: 0.7801\n",
            "Epoch 25/100\n",
            "20/20 [==============================] - 0s 2ms/step - loss: 0.4369 - accuracy: 0.7850\n",
            "Epoch 26/100\n",
            "20/20 [==============================] - 0s 2ms/step - loss: 0.4359 - accuracy: 0.7883\n",
            "Epoch 27/100\n",
            "20/20 [==============================] - 0s 2ms/step - loss: 0.4343 - accuracy: 0.7883\n",
            "Epoch 28/100\n",
            "20/20 [==============================] - 0s 2ms/step - loss: 0.4336 - accuracy: 0.7818\n",
            "Epoch 29/100\n",
            "20/20 [==============================] - 0s 2ms/step - loss: 0.4334 - accuracy: 0.7785\n",
            "Epoch 30/100\n",
            "20/20 [==============================] - 0s 2ms/step - loss: 0.4321 - accuracy: 0.7850\n",
            "Epoch 31/100\n",
            "20/20 [==============================] - 0s 2ms/step - loss: 0.4306 - accuracy: 0.7883\n",
            "Epoch 32/100\n",
            "20/20 [==============================] - 0s 2ms/step - loss: 0.4306 - accuracy: 0.7801\n",
            "Epoch 33/100\n",
            "20/20 [==============================] - 0s 2ms/step - loss: 0.4305 - accuracy: 0.7785\n",
            "Epoch 34/100\n",
            "20/20 [==============================] - 0s 2ms/step - loss: 0.4287 - accuracy: 0.7818\n",
            "Epoch 35/100\n",
            "20/20 [==============================] - 0s 2ms/step - loss: 0.4276 - accuracy: 0.7834\n",
            "Epoch 36/100\n",
            "20/20 [==============================] - 0s 2ms/step - loss: 0.4272 - accuracy: 0.7915\n",
            "Epoch 37/100\n",
            "20/20 [==============================] - 0s 2ms/step - loss: 0.4265 - accuracy: 0.7915\n",
            "Epoch 38/100\n",
            "20/20 [==============================] - 0s 2ms/step - loss: 0.4260 - accuracy: 0.7866\n",
            "Epoch 39/100\n",
            "20/20 [==============================] - 0s 2ms/step - loss: 0.4248 - accuracy: 0.7899\n",
            "Epoch 40/100\n",
            "20/20 [==============================] - 0s 2ms/step - loss: 0.4237 - accuracy: 0.7866\n",
            "Epoch 41/100\n",
            "20/20 [==============================] - 0s 2ms/step - loss: 0.4235 - accuracy: 0.7883\n",
            "Epoch 42/100\n",
            "20/20 [==============================] - 0s 2ms/step - loss: 0.4226 - accuracy: 0.7980\n",
            "Epoch 43/100\n",
            "20/20 [==============================] - 0s 2ms/step - loss: 0.4230 - accuracy: 0.7899\n",
            "Epoch 44/100\n",
            "20/20 [==============================] - 0s 2ms/step - loss: 0.4214 - accuracy: 0.7915\n",
            "Epoch 45/100\n",
            "20/20 [==============================] - 0s 2ms/step - loss: 0.4206 - accuracy: 0.7932\n",
            "Epoch 46/100\n",
            "20/20 [==============================] - 0s 3ms/step - loss: 0.4200 - accuracy: 0.7980\n",
            "Epoch 47/100\n",
            "20/20 [==============================] - 0s 2ms/step - loss: 0.4197 - accuracy: 0.7980\n",
            "Epoch 48/100\n",
            "20/20 [==============================] - 0s 2ms/step - loss: 0.4191 - accuracy: 0.7899\n",
            "Epoch 49/100\n",
            "20/20 [==============================] - 0s 2ms/step - loss: 0.4182 - accuracy: 0.7980\n",
            "Epoch 50/100\n",
            "20/20 [==============================] - 0s 2ms/step - loss: 0.4176 - accuracy: 0.7980\n",
            "Epoch 51/100\n",
            "20/20 [==============================] - 0s 2ms/step - loss: 0.4177 - accuracy: 0.7948\n",
            "Epoch 52/100\n",
            "20/20 [==============================] - 0s 2ms/step - loss: 0.4162 - accuracy: 0.8013\n",
            "Epoch 53/100\n",
            "20/20 [==============================] - 0s 2ms/step - loss: 0.4155 - accuracy: 0.8013\n",
            "Epoch 54/100\n",
            "20/20 [==============================] - 0s 2ms/step - loss: 0.4158 - accuracy: 0.7964\n",
            "Epoch 55/100\n",
            "20/20 [==============================] - 0s 2ms/step - loss: 0.4145 - accuracy: 0.7980\n",
            "Epoch 56/100\n",
            "20/20 [==============================] - 0s 2ms/step - loss: 0.4146 - accuracy: 0.7980\n",
            "Epoch 57/100\n",
            "20/20 [==============================] - 0s 2ms/step - loss: 0.4130 - accuracy: 0.7997\n",
            "Epoch 58/100\n",
            "20/20 [==============================] - 0s 2ms/step - loss: 0.4122 - accuracy: 0.8013\n",
            "Epoch 59/100\n",
            "20/20 [==============================] - 0s 2ms/step - loss: 0.4120 - accuracy: 0.7964\n",
            "Epoch 60/100\n",
            "20/20 [==============================] - 0s 2ms/step - loss: 0.4120 - accuracy: 0.7980\n",
            "Epoch 61/100\n",
            "20/20 [==============================] - 0s 2ms/step - loss: 0.4113 - accuracy: 0.8029\n",
            "Epoch 62/100\n",
            "20/20 [==============================] - 0s 2ms/step - loss: 0.4095 - accuracy: 0.8046\n",
            "Epoch 63/100\n",
            "20/20 [==============================] - 0s 2ms/step - loss: 0.4100 - accuracy: 0.8029\n",
            "Epoch 64/100\n",
            "20/20 [==============================] - 0s 2ms/step - loss: 0.4087 - accuracy: 0.8094\n",
            "Epoch 65/100\n",
            "20/20 [==============================] - 0s 2ms/step - loss: 0.4085 - accuracy: 0.8111\n",
            "Epoch 66/100\n",
            "20/20 [==============================] - 0s 2ms/step - loss: 0.4080 - accuracy: 0.8062\n",
            "Epoch 67/100\n",
            "20/20 [==============================] - 0s 2ms/step - loss: 0.4070 - accuracy: 0.8127\n",
            "Epoch 68/100\n",
            "20/20 [==============================] - 0s 3ms/step - loss: 0.4079 - accuracy: 0.8143\n",
            "Epoch 69/100\n",
            "20/20 [==============================] - 0s 2ms/step - loss: 0.4059 - accuracy: 0.8111\n",
            "Epoch 70/100\n",
            "20/20 [==============================] - 0s 2ms/step - loss: 0.4062 - accuracy: 0.8094\n",
            "Epoch 71/100\n",
            "20/20 [==============================] - 0s 2ms/step - loss: 0.4050 - accuracy: 0.8127\n",
            "Epoch 72/100\n",
            "20/20 [==============================] - 0s 2ms/step - loss: 0.4048 - accuracy: 0.8160\n",
            "Epoch 73/100\n",
            "20/20 [==============================] - 0s 2ms/step - loss: 0.4045 - accuracy: 0.8094\n",
            "Epoch 74/100\n",
            "20/20 [==============================] - 0s 2ms/step - loss: 0.4045 - accuracy: 0.8111\n",
            "Epoch 75/100\n",
            "20/20 [==============================] - 0s 2ms/step - loss: 0.4030 - accuracy: 0.8127\n",
            "Epoch 76/100\n",
            "20/20 [==============================] - 0s 2ms/step - loss: 0.4021 - accuracy: 0.8160\n",
            "Epoch 77/100\n",
            "20/20 [==============================] - 0s 2ms/step - loss: 0.4020 - accuracy: 0.8094\n",
            "Epoch 78/100\n",
            "20/20 [==============================] - 0s 3ms/step - loss: 0.4015 - accuracy: 0.8078\n",
            "Epoch 79/100\n",
            "20/20 [==============================] - 0s 2ms/step - loss: 0.4012 - accuracy: 0.8094\n",
            "Epoch 80/100\n",
            "20/20 [==============================] - 0s 2ms/step - loss: 0.4010 - accuracy: 0.8143\n",
            "Epoch 81/100\n",
            "20/20 [==============================] - 0s 2ms/step - loss: 0.3996 - accuracy: 0.8143\n",
            "Epoch 82/100\n",
            "20/20 [==============================] - 0s 2ms/step - loss: 0.4000 - accuracy: 0.8160\n",
            "Epoch 83/100\n",
            "20/20 [==============================] - 0s 2ms/step - loss: 0.3996 - accuracy: 0.8208\n",
            "Epoch 84/100\n",
            "20/20 [==============================] - 0s 2ms/step - loss: 0.3981 - accuracy: 0.8160\n",
            "Epoch 85/100\n",
            "20/20 [==============================] - 0s 2ms/step - loss: 0.3979 - accuracy: 0.8176\n",
            "Epoch 86/100\n",
            "20/20 [==============================] - 0s 3ms/step - loss: 0.3967 - accuracy: 0.8208\n",
            "Epoch 87/100\n",
            "20/20 [==============================] - 0s 2ms/step - loss: 0.3964 - accuracy: 0.8176\n",
            "Epoch 88/100\n",
            "20/20 [==============================] - 0s 2ms/step - loss: 0.3963 - accuracy: 0.8225\n",
            "Epoch 89/100\n",
            "20/20 [==============================] - 0s 2ms/step - loss: 0.3955 - accuracy: 0.8225\n",
            "Epoch 90/100\n",
            "20/20 [==============================] - 0s 2ms/step - loss: 0.3942 - accuracy: 0.8274\n",
            "Epoch 91/100\n",
            "20/20 [==============================] - 0s 2ms/step - loss: 0.3951 - accuracy: 0.8176\n",
            "Epoch 92/100\n",
            "20/20 [==============================] - 0s 2ms/step - loss: 0.3945 - accuracy: 0.8241\n",
            "Epoch 93/100\n",
            "20/20 [==============================] - 0s 2ms/step - loss: 0.3938 - accuracy: 0.8257\n",
            "Epoch 94/100\n",
            "20/20 [==============================] - 0s 2ms/step - loss: 0.3940 - accuracy: 0.8290\n",
            "Epoch 95/100\n",
            "20/20 [==============================] - 0s 2ms/step - loss: 0.3928 - accuracy: 0.8225\n",
            "Epoch 96/100\n",
            "20/20 [==============================] - 0s 2ms/step - loss: 0.3922 - accuracy: 0.8176\n",
            "Epoch 97/100\n",
            "20/20 [==============================] - 0s 2ms/step - loss: 0.3924 - accuracy: 0.8257\n",
            "Epoch 98/100\n",
            "20/20 [==============================] - 0s 2ms/step - loss: 0.3917 - accuracy: 0.8257\n",
            "Epoch 99/100\n",
            "20/20 [==============================] - 0s 2ms/step - loss: 0.3898 - accuracy: 0.8339\n",
            "Epoch 100/100\n",
            "20/20 [==============================] - 0s 2ms/step - loss: 0.3905 - accuracy: 0.8290\n"
          ]
        },
        {
          "output_type": "execute_result",
          "data": {
            "text/plain": [
              "<keras.src.callbacks.History at 0x78b9c8d19690>"
            ]
          },
          "metadata": {},
          "execution_count": 54
        }
      ]
    },
    {
      "cell_type": "code",
      "source": [
        "# how to select no of layers"
      ],
      "metadata": {
        "id": "3zdnAYNukTrf"
      },
      "execution_count": 48,
      "outputs": []
    },
    {
      "cell_type": "code",
      "source": [
        "def build_model(hp):\n",
        "\n",
        "  model = Sequential()\n",
        "\n",
        "  model.add(Dense(128,activation='relu',input_dim=8))\n",
        "\n",
        "  for i in range(hp.Int('num_layers',min_value=1,max_value=10)):\n",
        "\n",
        "    model.add(Dense(72,activation='relu'))\n",
        "\n",
        "  model.add(Dense(1,activation='sigmoid'))\n",
        "\n",
        "  model.compile(optimizer='rmsprop',loss='binary_crossentropy',metrics=['accuracy'])\n",
        "\n",
        "  return model"
      ],
      "metadata": {
        "id": "9tAiegz7kpkC"
      },
      "execution_count": 55,
      "outputs": []
    },
    {
      "cell_type": "code",
      "source": [
        "tuner = kt.RandomSearch(build_model,\n",
        "                        objective='val_accuracy',\n",
        "                        max_trials=3,\n",
        "                        directory='mydir',\n",
        "                        project_name='num_layers')"
      ],
      "metadata": {
        "id": "QgJOrVc6mUB9"
      },
      "execution_count": 57,
      "outputs": []
    },
    {
      "cell_type": "code",
      "source": [
        "tuner.search(X_train,y_train,epochs=5,validation_data=(X_test,y_test))"
      ],
      "metadata": {
        "colab": {
          "base_uri": "https://localhost:8080/"
        },
        "id": "A0xOxOFymu4T",
        "outputId": "953e8d39-3f49-4c24-ec51-b9d0602c4df5"
      },
      "execution_count": 58,
      "outputs": [
        {
          "output_type": "stream",
          "name": "stdout",
          "text": [
            "Trial 3 Complete [00h 00m 03s]\n",
            "val_accuracy: 0.7857142686843872\n",
            "\n",
            "Best val_accuracy So Far: 0.8181818127632141\n",
            "Total elapsed time: 00h 00m 08s\n"
          ]
        }
      ]
    },
    {
      "cell_type": "code",
      "source": [
        "tuner.get_best_hyperparameters()[0].values"
      ],
      "metadata": {
        "colab": {
          "base_uri": "https://localhost:8080/"
        },
        "id": "Z_JOb-sunFJO",
        "outputId": "bae08dc0-c908-46b6-b47f-2ce8c15e7131"
      },
      "execution_count": 59,
      "outputs": [
        {
          "output_type": "execute_result",
          "data": {
            "text/plain": [
              "{'num_layers': 7}"
            ]
          },
          "metadata": {},
          "execution_count": 59
        }
      ]
    },
    {
      "cell_type": "code",
      "source": [
        "model = tuner.get_best_models(num_models=1)[0]"
      ],
      "metadata": {
        "id": "DoOvSBo2nPrr"
      },
      "execution_count": 60,
      "outputs": []
    },
    {
      "cell_type": "code",
      "source": [
        "model.fit(X_train,y_train,epochs=100,initial_epoch=7,validation_data=(X_test,y_test))"
      ],
      "metadata": {
        "colab": {
          "base_uri": "https://localhost:8080/"
        },
        "id": "kaJrHcBBnjwH",
        "outputId": "62e26b33-f397-484d-8f71-0b19a7ad1c50"
      },
      "execution_count": 61,
      "outputs": [
        {
          "output_type": "stream",
          "name": "stdout",
          "text": [
            "Epoch 8/100\n",
            "20/20 [==============================] - 2s 17ms/step - loss: 0.4506 - accuracy: 0.7818 - val_loss: 0.4995 - val_accuracy: 0.7857\n",
            "Epoch 9/100\n",
            "20/20 [==============================] - 0s 6ms/step - loss: 0.4436 - accuracy: 0.7866 - val_loss: 0.5181 - val_accuracy: 0.7792\n",
            "Epoch 10/100\n",
            "20/20 [==============================] - 0s 6ms/step - loss: 0.4388 - accuracy: 0.7850 - val_loss: 0.4853 - val_accuracy: 0.7987\n",
            "Epoch 11/100\n",
            "20/20 [==============================] - 0s 6ms/step - loss: 0.4272 - accuracy: 0.8013 - val_loss: 0.5598 - val_accuracy: 0.7468\n",
            "Epoch 12/100\n",
            "20/20 [==============================] - 0s 6ms/step - loss: 0.4067 - accuracy: 0.8143 - val_loss: 0.5420 - val_accuracy: 0.7857\n",
            "Epoch 13/100\n",
            "20/20 [==============================] - 0s 6ms/step - loss: 0.4025 - accuracy: 0.8290 - val_loss: 0.5017 - val_accuracy: 0.7857\n",
            "Epoch 14/100\n",
            "20/20 [==============================] - 0s 5ms/step - loss: 0.3800 - accuracy: 0.8176 - val_loss: 0.4795 - val_accuracy: 0.8052\n",
            "Epoch 15/100\n",
            "20/20 [==============================] - 0s 5ms/step - loss: 0.3586 - accuracy: 0.8632 - val_loss: 0.5368 - val_accuracy: 0.7727\n",
            "Epoch 16/100\n",
            "20/20 [==============================] - 0s 5ms/step - loss: 0.3541 - accuracy: 0.8485 - val_loss: 0.4975 - val_accuracy: 0.7792\n",
            "Epoch 17/100\n",
            "20/20 [==============================] - 0s 5ms/step - loss: 0.3483 - accuracy: 0.8534 - val_loss: 0.6167 - val_accuracy: 0.6818\n",
            "Epoch 18/100\n",
            "20/20 [==============================] - 0s 5ms/step - loss: 0.3269 - accuracy: 0.8730 - val_loss: 0.5528 - val_accuracy: 0.7857\n",
            "Epoch 19/100\n",
            "20/20 [==============================] - 0s 6ms/step - loss: 0.3100 - accuracy: 0.8567 - val_loss: 0.5694 - val_accuracy: 0.7727\n",
            "Epoch 20/100\n",
            "20/20 [==============================] - 0s 5ms/step - loss: 0.3050 - accuracy: 0.8746 - val_loss: 0.6440 - val_accuracy: 0.7468\n",
            "Epoch 21/100\n",
            "20/20 [==============================] - 0s 6ms/step - loss: 0.2945 - accuracy: 0.8795 - val_loss: 0.5686 - val_accuracy: 0.7922\n",
            "Epoch 22/100\n",
            "20/20 [==============================] - 0s 5ms/step - loss: 0.2776 - accuracy: 0.8795 - val_loss: 0.5989 - val_accuracy: 0.7662\n",
            "Epoch 23/100\n",
            "20/20 [==============================] - 0s 5ms/step - loss: 0.2572 - accuracy: 0.9039 - val_loss: 0.6241 - val_accuracy: 0.7792\n",
            "Epoch 24/100\n",
            "20/20 [==============================] - 0s 5ms/step - loss: 0.2504 - accuracy: 0.9072 - val_loss: 0.6245 - val_accuracy: 0.7662\n",
            "Epoch 25/100\n",
            "20/20 [==============================] - 0s 5ms/step - loss: 0.2325 - accuracy: 0.9121 - val_loss: 0.7377 - val_accuracy: 0.7987\n",
            "Epoch 26/100\n",
            "20/20 [==============================] - 0s 6ms/step - loss: 0.2443 - accuracy: 0.9072 - val_loss: 0.7897 - val_accuracy: 0.7597\n",
            "Epoch 27/100\n",
            "20/20 [==============================] - 0s 4ms/step - loss: 0.2156 - accuracy: 0.9283 - val_loss: 0.7400 - val_accuracy: 0.7792\n",
            "Epoch 28/100\n",
            "20/20 [==============================] - 0s 5ms/step - loss: 0.2062 - accuracy: 0.9283 - val_loss: 0.9255 - val_accuracy: 0.7143\n",
            "Epoch 29/100\n",
            "20/20 [==============================] - 0s 5ms/step - loss: 0.2111 - accuracy: 0.9235 - val_loss: 0.7793 - val_accuracy: 0.7727\n",
            "Epoch 30/100\n",
            "20/20 [==============================] - 0s 5ms/step - loss: 0.2029 - accuracy: 0.9235 - val_loss: 0.7507 - val_accuracy: 0.7468\n",
            "Epoch 31/100\n",
            "20/20 [==============================] - 0s 6ms/step - loss: 0.1761 - accuracy: 0.9349 - val_loss: 0.7953 - val_accuracy: 0.7403\n",
            "Epoch 32/100\n",
            "20/20 [==============================] - 0s 6ms/step - loss: 0.2136 - accuracy: 0.9169 - val_loss: 0.7591 - val_accuracy: 0.7597\n",
            "Epoch 33/100\n",
            "20/20 [==============================] - 0s 8ms/step - loss: 0.1814 - accuracy: 0.9365 - val_loss: 0.9297 - val_accuracy: 0.7468\n",
            "Epoch 34/100\n",
            "20/20 [==============================] - 0s 7ms/step - loss: 0.1553 - accuracy: 0.9414 - val_loss: 0.8543 - val_accuracy: 0.7078\n",
            "Epoch 35/100\n",
            "20/20 [==============================] - 0s 7ms/step - loss: 0.1908 - accuracy: 0.9381 - val_loss: 0.9451 - val_accuracy: 0.7273\n",
            "Epoch 36/100\n",
            "20/20 [==============================] - 0s 9ms/step - loss: 0.1344 - accuracy: 0.9593 - val_loss: 0.9043 - val_accuracy: 0.7532\n",
            "Epoch 37/100\n",
            "20/20 [==============================] - 0s 8ms/step - loss: 0.1804 - accuracy: 0.9381 - val_loss: 0.8640 - val_accuracy: 0.7143\n",
            "Epoch 38/100\n",
            "20/20 [==============================] - 0s 7ms/step - loss: 0.1089 - accuracy: 0.9658 - val_loss: 1.2345 - val_accuracy: 0.7273\n",
            "Epoch 39/100\n",
            "20/20 [==============================] - 0s 8ms/step - loss: 0.1418 - accuracy: 0.9446 - val_loss: 1.1679 - val_accuracy: 0.7208\n",
            "Epoch 40/100\n",
            "20/20 [==============================] - 0s 8ms/step - loss: 0.1237 - accuracy: 0.9593 - val_loss: 1.2548 - val_accuracy: 0.6948\n",
            "Epoch 41/100\n",
            "20/20 [==============================] - 0s 7ms/step - loss: 0.1583 - accuracy: 0.9430 - val_loss: 1.1586 - val_accuracy: 0.7338\n",
            "Epoch 42/100\n",
            "20/20 [==============================] - 0s 8ms/step - loss: 0.1003 - accuracy: 0.9658 - val_loss: 1.0726 - val_accuracy: 0.7468\n",
            "Epoch 43/100\n",
            "20/20 [==============================] - 0s 7ms/step - loss: 0.1354 - accuracy: 0.9446 - val_loss: 1.1081 - val_accuracy: 0.7532\n",
            "Epoch 44/100\n",
            "20/20 [==============================] - 0s 7ms/step - loss: 0.1087 - accuracy: 0.9577 - val_loss: 1.6099 - val_accuracy: 0.6818\n",
            "Epoch 45/100\n",
            "20/20 [==============================] - 0s 7ms/step - loss: 0.1216 - accuracy: 0.9577 - val_loss: 1.1066 - val_accuracy: 0.7597\n",
            "Epoch 46/100\n",
            "20/20 [==============================] - 0s 8ms/step - loss: 0.0967 - accuracy: 0.9642 - val_loss: 1.3107 - val_accuracy: 0.7338\n",
            "Epoch 47/100\n",
            "20/20 [==============================] - 0s 7ms/step - loss: 0.0575 - accuracy: 0.9788 - val_loss: 1.7836 - val_accuracy: 0.7143\n",
            "Epoch 48/100\n",
            "20/20 [==============================] - 0s 8ms/step - loss: 0.1057 - accuracy: 0.9674 - val_loss: 1.2859 - val_accuracy: 0.7662\n",
            "Epoch 49/100\n",
            "20/20 [==============================] - 0s 8ms/step - loss: 0.0836 - accuracy: 0.9674 - val_loss: 1.3670 - val_accuracy: 0.7662\n",
            "Epoch 50/100\n",
            "20/20 [==============================] - 0s 7ms/step - loss: 0.0840 - accuracy: 0.9658 - val_loss: 1.3368 - val_accuracy: 0.7468\n",
            "Epoch 51/100\n",
            "20/20 [==============================] - 0s 8ms/step - loss: 0.1012 - accuracy: 0.9691 - val_loss: 1.5202 - val_accuracy: 0.7338\n",
            "Epoch 52/100\n",
            "20/20 [==============================] - 0s 7ms/step - loss: 0.0651 - accuracy: 0.9772 - val_loss: 1.4514 - val_accuracy: 0.7403\n",
            "Epoch 53/100\n",
            "20/20 [==============================] - 0s 7ms/step - loss: 0.0670 - accuracy: 0.9723 - val_loss: 1.5347 - val_accuracy: 0.6883\n",
            "Epoch 54/100\n",
            "20/20 [==============================] - 0s 7ms/step - loss: 0.1105 - accuracy: 0.9625 - val_loss: 1.1973 - val_accuracy: 0.7013\n",
            "Epoch 55/100\n",
            "20/20 [==============================] - 0s 7ms/step - loss: 0.0495 - accuracy: 0.9821 - val_loss: 1.7251 - val_accuracy: 0.6948\n",
            "Epoch 56/100\n",
            "20/20 [==============================] - 0s 7ms/step - loss: 0.0751 - accuracy: 0.9691 - val_loss: 1.6570 - val_accuracy: 0.7143\n",
            "Epoch 57/100\n",
            "20/20 [==============================] - 0s 7ms/step - loss: 0.0651 - accuracy: 0.9788 - val_loss: 1.6071 - val_accuracy: 0.7662\n",
            "Epoch 58/100\n",
            "20/20 [==============================] - 0s 8ms/step - loss: 0.0405 - accuracy: 0.9886 - val_loss: 2.2196 - val_accuracy: 0.7143\n",
            "Epoch 59/100\n",
            "20/20 [==============================] - 0s 7ms/step - loss: 0.0592 - accuracy: 0.9788 - val_loss: 1.6217 - val_accuracy: 0.7338\n",
            "Epoch 60/100\n",
            "20/20 [==============================] - 0s 7ms/step - loss: 0.0783 - accuracy: 0.9788 - val_loss: 2.0381 - val_accuracy: 0.7208\n",
            "Epoch 61/100\n",
            "20/20 [==============================] - 0s 8ms/step - loss: 0.0361 - accuracy: 0.9870 - val_loss: 1.8165 - val_accuracy: 0.7273\n",
            "Epoch 62/100\n",
            "20/20 [==============================] - 0s 5ms/step - loss: 0.0380 - accuracy: 0.9870 - val_loss: 1.5454 - val_accuracy: 0.7468\n",
            "Epoch 63/100\n",
            "20/20 [==============================] - 0s 6ms/step - loss: 0.1012 - accuracy: 0.9707 - val_loss: 1.9436 - val_accuracy: 0.7078\n",
            "Epoch 64/100\n",
            "20/20 [==============================] - 0s 5ms/step - loss: 0.0449 - accuracy: 0.9788 - val_loss: 1.8004 - val_accuracy: 0.7273\n",
            "Epoch 65/100\n",
            "20/20 [==============================] - 0s 5ms/step - loss: 0.0116 - accuracy: 0.9967 - val_loss: 2.2301 - val_accuracy: 0.7468\n",
            "Epoch 66/100\n",
            "20/20 [==============================] - 0s 5ms/step - loss: 0.0555 - accuracy: 0.9805 - val_loss: 2.3024 - val_accuracy: 0.6623\n",
            "Epoch 67/100\n",
            "20/20 [==============================] - 0s 5ms/step - loss: 0.1052 - accuracy: 0.9674 - val_loss: 1.6622 - val_accuracy: 0.7338\n",
            "Epoch 68/100\n",
            "20/20 [==============================] - 0s 6ms/step - loss: 0.0212 - accuracy: 0.9919 - val_loss: 1.7498 - val_accuracy: 0.7597\n",
            "Epoch 69/100\n",
            "20/20 [==============================] - 0s 6ms/step - loss: 0.0705 - accuracy: 0.9821 - val_loss: 2.1100 - val_accuracy: 0.7403\n",
            "Epoch 70/100\n",
            "20/20 [==============================] - 0s 5ms/step - loss: 0.0888 - accuracy: 0.9756 - val_loss: 1.6168 - val_accuracy: 0.7208\n",
            "Epoch 71/100\n",
            "20/20 [==============================] - 0s 6ms/step - loss: 0.0191 - accuracy: 0.9951 - val_loss: 1.7498 - val_accuracy: 0.7078\n",
            "Epoch 72/100\n",
            "20/20 [==============================] - 0s 6ms/step - loss: 0.0518 - accuracy: 0.9821 - val_loss: 1.6872 - val_accuracy: 0.7468\n",
            "Epoch 73/100\n",
            "20/20 [==============================] - 0s 6ms/step - loss: 0.0669 - accuracy: 0.9691 - val_loss: 1.9034 - val_accuracy: 0.7403\n",
            "Epoch 74/100\n",
            "20/20 [==============================] - 0s 6ms/step - loss: 0.0354 - accuracy: 0.9902 - val_loss: 1.7900 - val_accuracy: 0.7662\n",
            "Epoch 75/100\n",
            "20/20 [==============================] - 0s 5ms/step - loss: 0.0302 - accuracy: 0.9951 - val_loss: 1.9739 - val_accuracy: 0.7403\n",
            "Epoch 76/100\n",
            "20/20 [==============================] - 0s 5ms/step - loss: 0.0474 - accuracy: 0.9870 - val_loss: 1.6736 - val_accuracy: 0.7532\n",
            "Epoch 77/100\n",
            "20/20 [==============================] - 0s 5ms/step - loss: 0.0378 - accuracy: 0.9951 - val_loss: 1.8905 - val_accuracy: 0.7532\n",
            "Epoch 78/100\n",
            "20/20 [==============================] - 0s 6ms/step - loss: 0.0431 - accuracy: 0.9853 - val_loss: 2.1791 - val_accuracy: 0.7143\n",
            "Epoch 79/100\n",
            "20/20 [==============================] - 0s 5ms/step - loss: 0.0763 - accuracy: 0.9788 - val_loss: 2.0019 - val_accuracy: 0.7273\n",
            "Epoch 80/100\n",
            "20/20 [==============================] - 0s 5ms/step - loss: 0.0293 - accuracy: 0.9902 - val_loss: 1.6801 - val_accuracy: 0.7532\n",
            "Epoch 81/100\n",
            "20/20 [==============================] - 0s 5ms/step - loss: 0.0274 - accuracy: 0.9935 - val_loss: 2.5128 - val_accuracy: 0.6948\n",
            "Epoch 82/100\n",
            "20/20 [==============================] - 0s 5ms/step - loss: 0.0831 - accuracy: 0.9739 - val_loss: 1.9127 - val_accuracy: 0.7078\n",
            "Epoch 83/100\n",
            "20/20 [==============================] - 0s 5ms/step - loss: 0.0080 - accuracy: 1.0000 - val_loss: 2.1206 - val_accuracy: 0.7273\n",
            "Epoch 84/100\n",
            "20/20 [==============================] - 0s 5ms/step - loss: 0.0127 - accuracy: 0.9984 - val_loss: 2.3353 - val_accuracy: 0.7403\n",
            "Epoch 85/100\n",
            "20/20 [==============================] - 0s 5ms/step - loss: 0.0556 - accuracy: 0.9821 - val_loss: 1.9772 - val_accuracy: 0.7662\n",
            "Epoch 86/100\n",
            "20/20 [==============================] - 0s 5ms/step - loss: 0.0606 - accuracy: 0.9821 - val_loss: 1.7908 - val_accuracy: 0.7597\n",
            "Epoch 87/100\n",
            "20/20 [==============================] - 0s 5ms/step - loss: 0.0223 - accuracy: 0.9951 - val_loss: 2.0203 - val_accuracy: 0.7338\n",
            "Epoch 88/100\n",
            "20/20 [==============================] - 0s 5ms/step - loss: 0.0020 - accuracy: 1.0000 - val_loss: 2.4451 - val_accuracy: 0.7468\n",
            "Epoch 89/100\n",
            "20/20 [==============================] - 0s 5ms/step - loss: 0.0047 - accuracy: 0.9984 - val_loss: 2.2966 - val_accuracy: 0.6623\n",
            "Epoch 90/100\n",
            "20/20 [==============================] - 0s 6ms/step - loss: 0.1235 - accuracy: 0.9658 - val_loss: 1.9192 - val_accuracy: 0.7338\n",
            "Epoch 91/100\n",
            "20/20 [==============================] - 0s 6ms/step - loss: 0.0115 - accuracy: 0.9951 - val_loss: 2.1961 - val_accuracy: 0.7078\n",
            "Epoch 92/100\n",
            "20/20 [==============================] - 0s 6ms/step - loss: 0.0119 - accuracy: 0.9935 - val_loss: 2.4633 - val_accuracy: 0.6753\n",
            "Epoch 93/100\n",
            "20/20 [==============================] - 0s 5ms/step - loss: 0.0383 - accuracy: 0.9837 - val_loss: 1.8755 - val_accuracy: 0.7792\n",
            "Epoch 94/100\n",
            "20/20 [==============================] - 0s 5ms/step - loss: 0.0535 - accuracy: 0.9853 - val_loss: 1.7669 - val_accuracy: 0.7403\n",
            "Epoch 95/100\n",
            "20/20 [==============================] - 0s 5ms/step - loss: 0.0033 - accuracy: 1.0000 - val_loss: 2.1106 - val_accuracy: 0.7403\n",
            "Epoch 96/100\n",
            "20/20 [==============================] - 0s 5ms/step - loss: 0.0882 - accuracy: 0.9805 - val_loss: 1.8184 - val_accuracy: 0.7597\n",
            "Epoch 97/100\n",
            "20/20 [==============================] - 0s 6ms/step - loss: 0.0259 - accuracy: 0.9853 - val_loss: 1.8789 - val_accuracy: 0.7143\n",
            "Epoch 98/100\n",
            "20/20 [==============================] - 0s 5ms/step - loss: 0.0216 - accuracy: 0.9935 - val_loss: 1.7163 - val_accuracy: 0.7468\n",
            "Epoch 99/100\n",
            "20/20 [==============================] - 0s 5ms/step - loss: 0.0095 - accuracy: 0.9967 - val_loss: 2.1504 - val_accuracy: 0.7208\n",
            "Epoch 100/100\n",
            "20/20 [==============================] - 0s 11ms/step - loss: 0.0420 - accuracy: 0.9919 - val_loss: 2.1822 - val_accuracy: 0.7078\n"
          ]
        },
        {
          "output_type": "execute_result",
          "data": {
            "text/plain": [
              "<keras.src.callbacks.History at 0x78b9ca46fb20>"
            ]
          },
          "metadata": {},
          "execution_count": 61
        }
      ]
    },
    {
      "cell_type": "code",
      "source": [
        "#Accuracy is not good hence making following changes"
      ],
      "metadata": {
        "id": "OjTIq5Ahnyd5"
      },
      "execution_count": 62,
      "outputs": []
    },
    {
      "cell_type": "code",
      "source": [
        "def build_model(hp):\n",
        "\n",
        "  model = Sequential()\n",
        "\n",
        "  counter = 0\n",
        "\n",
        "  for i in range(hp.Int('num_layers',min_value=1,max_value=10)):\n",
        "\n",
        "    if counter == 0:\n",
        "\n",
        "      model.add(Dense(hp.Int('units'+ str(i), min_value=8, max_value=128, step=8),activation = hp.Choice('activation' + str(i), values=['relu','tanh','sigmoid']),input_dim=8))\n",
        "      model.add(Dropout(hp.Choice('dropout' + str(i), values=[0.1,0.2,0.3,0.4,0.5,0.6,0.7,0.8,0.9])))\n",
        "    else:\n",
        "      model.add(Dense(hp.Int('units'+ str(i), min_value=8, max_value=128, step=8),activation = hp.Choice('activation' + str(i), values=['relu','tanh','sigmoid']),input_dim=8))\n",
        "      model.add(Dropout(hp.Choice('dropout' + str(i), values=[0.1,0.2,0.3,0.4,0.5,0.6,0.7,0.8,0.9])))\n",
        "    counter+=1\n",
        "\n",
        "    model.add(Dense(1,activation='sigmoid'))\n",
        "\n",
        "    model.compile(optimizer=hp.Choice('optimizer',values=['rmsprop','adam','sgd','nadam','adadelta']),\n",
        "                  loss='binary_crossentropy',\n",
        "                  metrics=['accuracy'])\n",
        "    return model"
      ],
      "metadata": {
        "id": "MArqrq2LoJyb"
      },
      "execution_count": 76,
      "outputs": []
    },
    {
      "cell_type": "code",
      "source": [],
      "metadata": {
        "id": "xzcDIUF2zTik"
      },
      "execution_count": null,
      "outputs": []
    },
    {
      "cell_type": "code",
      "source": [
        "tuner = kt.RandomSearch(build_model,\n",
        "                        objective='val_accuracy',\n",
        "                        max_trials=3,\n",
        "                        directory=\"mydir\",\n",
        "                        project_name='final1')"
      ],
      "metadata": {
        "id": "FWoAeEnHoMmf"
      },
      "execution_count": 77,
      "outputs": []
    },
    {
      "cell_type": "code",
      "source": [
        "tuner.search(X_train,y_train,epochs=5,validation_data=(X_test,y_test))\n"
      ],
      "metadata": {
        "id": "VvFtegSKwtCi"
      },
      "execution_count": 80,
      "outputs": []
    },
    {
      "cell_type": "code",
      "source": [
        "tuner.get_best_hyperparameters()[0].values"
      ],
      "metadata": {
        "colab": {
          "base_uri": "https://localhost:8080/"
        },
        "id": "Fes-c-CLw7Tu",
        "outputId": "531eb129-920e-4f9a-9df7-4672157f3ca6"
      },
      "execution_count": 81,
      "outputs": [
        {
          "output_type": "execute_result",
          "data": {
            "text/plain": [
              "{'num_layers': 3,\n",
              " 'units0': 96,\n",
              " 'activation0': 'relu',\n",
              " 'dropout0': 0.5,\n",
              " 'optimizer': 'sgd'}"
            ]
          },
          "metadata": {},
          "execution_count": 81
        }
      ]
    },
    {
      "cell_type": "code",
      "source": [
        "model = tuner.get_best_models(num_models=1)[0]"
      ],
      "metadata": {
        "colab": {
          "base_uri": "https://localhost:8080/"
        },
        "id": "NApxFTorxD9y",
        "outputId": "075c7e89-4836-4f60-f6eb-8f8286ae444d"
      },
      "execution_count": 82,
      "outputs": [
        {
          "output_type": "stream",
          "name": "stderr",
          "text": [
            "WARNING:tensorflow:Detecting that an object or model or tf.train.Checkpoint is being deleted with unrestored values. See the following logs for the specific values in question. To silence these warnings, use `status.expect_partial()`. See https://www.tensorflow.org/api_docs/python/tf/train/Checkpoint#restorefor details about the status object returned by the restore function.\n",
            "WARNING:tensorflow:Value in checkpoint could not be found in the restored object: (root).optimizer._variables.1\n",
            "WARNING:tensorflow:Value in checkpoint could not be found in the restored object: (root).optimizer._variables.2\n",
            "WARNING:tensorflow:Value in checkpoint could not be found in the restored object: (root).optimizer._variables.3\n",
            "WARNING:tensorflow:Value in checkpoint could not be found in the restored object: (root).optimizer._variables.4\n"
          ]
        }
      ]
    },
    {
      "cell_type": "code",
      "source": [
        "model.fit(X_train,y_train,epochs=200,initial_epoch=6,validation_data=(X_test,y_test))"
      ],
      "metadata": {
        "colab": {
          "base_uri": "https://localhost:8080/"
        },
        "id": "aGb9xbzBxU8W",
        "outputId": "44d9a2db-7849-4d91-e1b5-ad72258e3735"
      },
      "execution_count": 83,
      "outputs": [
        {
          "output_type": "stream",
          "name": "stdout",
          "text": [
            "Epoch 7/200\n",
            "20/20 [==============================] - 1s 13ms/step - loss: 0.6050 - accuracy: 0.6987 - val_loss: 0.5811 - val_accuracy: 0.7662\n",
            "Epoch 8/200\n",
            "20/20 [==============================] - 0s 4ms/step - loss: 0.5913 - accuracy: 0.7231 - val_loss: 0.5703 - val_accuracy: 0.7792\n",
            "Epoch 9/200\n",
            "20/20 [==============================] - 0s 5ms/step - loss: 0.6010 - accuracy: 0.6987 - val_loss: 0.5607 - val_accuracy: 0.7792\n",
            "Epoch 10/200\n",
            "20/20 [==============================] - 0s 4ms/step - loss: 0.5785 - accuracy: 0.7101 - val_loss: 0.5520 - val_accuracy: 0.7792\n",
            "Epoch 11/200\n",
            "20/20 [==============================] - 0s 4ms/step - loss: 0.5750 - accuracy: 0.6938 - val_loss: 0.5453 - val_accuracy: 0.7857\n",
            "Epoch 12/200\n",
            "20/20 [==============================] - 0s 4ms/step - loss: 0.5546 - accuracy: 0.7459 - val_loss: 0.5393 - val_accuracy: 0.7922\n",
            "Epoch 13/200\n",
            "20/20 [==============================] - 0s 4ms/step - loss: 0.5572 - accuracy: 0.7345 - val_loss: 0.5334 - val_accuracy: 0.7922\n",
            "Epoch 14/200\n",
            "20/20 [==============================] - 0s 4ms/step - loss: 0.5683 - accuracy: 0.6889 - val_loss: 0.5278 - val_accuracy: 0.7922\n",
            "Epoch 15/200\n",
            "20/20 [==============================] - 0s 4ms/step - loss: 0.5542 - accuracy: 0.7378 - val_loss: 0.5231 - val_accuracy: 0.7922\n",
            "Epoch 16/200\n",
            "20/20 [==============================] - 0s 4ms/step - loss: 0.5450 - accuracy: 0.7182 - val_loss: 0.5186 - val_accuracy: 0.7922\n",
            "Epoch 17/200\n",
            "20/20 [==============================] - 0s 4ms/step - loss: 0.5393 - accuracy: 0.7362 - val_loss: 0.5145 - val_accuracy: 0.7922\n",
            "Epoch 18/200\n",
            "20/20 [==============================] - 0s 4ms/step - loss: 0.5406 - accuracy: 0.7378 - val_loss: 0.5106 - val_accuracy: 0.7922\n",
            "Epoch 19/200\n",
            "20/20 [==============================] - 0s 4ms/step - loss: 0.5374 - accuracy: 0.7345 - val_loss: 0.5072 - val_accuracy: 0.7987\n",
            "Epoch 20/200\n",
            "20/20 [==============================] - 0s 5ms/step - loss: 0.5283 - accuracy: 0.7394 - val_loss: 0.5038 - val_accuracy: 0.7987\n",
            "Epoch 21/200\n",
            "20/20 [==============================] - 0s 5ms/step - loss: 0.5331 - accuracy: 0.7329 - val_loss: 0.5011 - val_accuracy: 0.7987\n",
            "Epoch 22/200\n",
            "20/20 [==============================] - 0s 4ms/step - loss: 0.5245 - accuracy: 0.7427 - val_loss: 0.4982 - val_accuracy: 0.8052\n",
            "Epoch 23/200\n",
            "20/20 [==============================] - 0s 4ms/step - loss: 0.5135 - accuracy: 0.7638 - val_loss: 0.4955 - val_accuracy: 0.7987\n",
            "Epoch 24/200\n",
            "20/20 [==============================] - 0s 5ms/step - loss: 0.5272 - accuracy: 0.7150 - val_loss: 0.4930 - val_accuracy: 0.7922\n",
            "Epoch 25/200\n",
            "20/20 [==============================] - 0s 4ms/step - loss: 0.5037 - accuracy: 0.7427 - val_loss: 0.4908 - val_accuracy: 0.7922\n",
            "Epoch 26/200\n",
            "20/20 [==============================] - 0s 4ms/step - loss: 0.5019 - accuracy: 0.7476 - val_loss: 0.4887 - val_accuracy: 0.7987\n",
            "Epoch 27/200\n",
            "20/20 [==============================] - 0s 4ms/step - loss: 0.5203 - accuracy: 0.7541 - val_loss: 0.4867 - val_accuracy: 0.7987\n",
            "Epoch 28/200\n",
            "20/20 [==============================] - 0s 4ms/step - loss: 0.5179 - accuracy: 0.7476 - val_loss: 0.4860 - val_accuracy: 0.7922\n",
            "Epoch 29/200\n",
            "20/20 [==============================] - 0s 4ms/step - loss: 0.4950 - accuracy: 0.7476 - val_loss: 0.4844 - val_accuracy: 0.7922\n",
            "Epoch 30/200\n",
            "20/20 [==============================] - 0s 4ms/step - loss: 0.4986 - accuracy: 0.7443 - val_loss: 0.4833 - val_accuracy: 0.7857\n",
            "Epoch 31/200\n",
            "20/20 [==============================] - 0s 4ms/step - loss: 0.5026 - accuracy: 0.7557 - val_loss: 0.4817 - val_accuracy: 0.7922\n",
            "Epoch 32/200\n",
            "20/20 [==============================] - 0s 4ms/step - loss: 0.5067 - accuracy: 0.7622 - val_loss: 0.4807 - val_accuracy: 0.7922\n",
            "Epoch 33/200\n",
            "20/20 [==============================] - 0s 4ms/step - loss: 0.5049 - accuracy: 0.7443 - val_loss: 0.4797 - val_accuracy: 0.7922\n",
            "Epoch 34/200\n",
            "20/20 [==============================] - 0s 4ms/step - loss: 0.5062 - accuracy: 0.7443 - val_loss: 0.4787 - val_accuracy: 0.7857\n",
            "Epoch 35/200\n",
            "20/20 [==============================] - 0s 4ms/step - loss: 0.5051 - accuracy: 0.7410 - val_loss: 0.4779 - val_accuracy: 0.7857\n",
            "Epoch 36/200\n",
            "20/20 [==============================] - 0s 4ms/step - loss: 0.4862 - accuracy: 0.7704 - val_loss: 0.4766 - val_accuracy: 0.7857\n",
            "Epoch 37/200\n",
            "20/20 [==============================] - 0s 5ms/step - loss: 0.4900 - accuracy: 0.7687 - val_loss: 0.4757 - val_accuracy: 0.7922\n",
            "Epoch 38/200\n",
            "20/20 [==============================] - 0s 4ms/step - loss: 0.4996 - accuracy: 0.7622 - val_loss: 0.4752 - val_accuracy: 0.7857\n",
            "Epoch 39/200\n",
            "20/20 [==============================] - 0s 5ms/step - loss: 0.5019 - accuracy: 0.7443 - val_loss: 0.4747 - val_accuracy: 0.7857\n",
            "Epoch 40/200\n",
            "20/20 [==============================] - 0s 5ms/step - loss: 0.4933 - accuracy: 0.7508 - val_loss: 0.4741 - val_accuracy: 0.7857\n",
            "Epoch 41/200\n",
            "20/20 [==============================] - 0s 4ms/step - loss: 0.4914 - accuracy: 0.7590 - val_loss: 0.4733 - val_accuracy: 0.7857\n",
            "Epoch 42/200\n",
            "20/20 [==============================] - 0s 4ms/step - loss: 0.4941 - accuracy: 0.7573 - val_loss: 0.4730 - val_accuracy: 0.7857\n",
            "Epoch 43/200\n",
            "20/20 [==============================] - 0s 4ms/step - loss: 0.5073 - accuracy: 0.7492 - val_loss: 0.4724 - val_accuracy: 0.7857\n",
            "Epoch 44/200\n",
            "20/20 [==============================] - 0s 4ms/step - loss: 0.4989 - accuracy: 0.7508 - val_loss: 0.4715 - val_accuracy: 0.7857\n",
            "Epoch 45/200\n",
            "20/20 [==============================] - 0s 4ms/step - loss: 0.4989 - accuracy: 0.7378 - val_loss: 0.4710 - val_accuracy: 0.7922\n",
            "Epoch 46/200\n",
            "20/20 [==============================] - 0s 5ms/step - loss: 0.4941 - accuracy: 0.7573 - val_loss: 0.4706 - val_accuracy: 0.7792\n",
            "Epoch 47/200\n",
            "20/20 [==============================] - 0s 4ms/step - loss: 0.4901 - accuracy: 0.7378 - val_loss: 0.4703 - val_accuracy: 0.7792\n",
            "Epoch 48/200\n",
            "20/20 [==============================] - 0s 5ms/step - loss: 0.4991 - accuracy: 0.7524 - val_loss: 0.4703 - val_accuracy: 0.7857\n",
            "Epoch 49/200\n",
            "20/20 [==============================] - 0s 4ms/step - loss: 0.4784 - accuracy: 0.7687 - val_loss: 0.4697 - val_accuracy: 0.7857\n",
            "Epoch 50/200\n",
            "20/20 [==============================] - 0s 6ms/step - loss: 0.4769 - accuracy: 0.7801 - val_loss: 0.4690 - val_accuracy: 0.7857\n",
            "Epoch 51/200\n",
            "20/20 [==============================] - 0s 6ms/step - loss: 0.4792 - accuracy: 0.7655 - val_loss: 0.4685 - val_accuracy: 0.7792\n",
            "Epoch 52/200\n",
            "20/20 [==============================] - 0s 6ms/step - loss: 0.4725 - accuracy: 0.7704 - val_loss: 0.4686 - val_accuracy: 0.7792\n",
            "Epoch 53/200\n",
            "20/20 [==============================] - 0s 6ms/step - loss: 0.4768 - accuracy: 0.7590 - val_loss: 0.4681 - val_accuracy: 0.7792\n",
            "Epoch 54/200\n",
            "20/20 [==============================] - 0s 6ms/step - loss: 0.4863 - accuracy: 0.7590 - val_loss: 0.4681 - val_accuracy: 0.7792\n",
            "Epoch 55/200\n",
            "20/20 [==============================] - 0s 7ms/step - loss: 0.4958 - accuracy: 0.7622 - val_loss: 0.4681 - val_accuracy: 0.7727\n",
            "Epoch 56/200\n",
            "20/20 [==============================] - 0s 6ms/step - loss: 0.4846 - accuracy: 0.7590 - val_loss: 0.4676 - val_accuracy: 0.7792\n",
            "Epoch 57/200\n",
            "20/20 [==============================] - 0s 5ms/step - loss: 0.4735 - accuracy: 0.7736 - val_loss: 0.4672 - val_accuracy: 0.7857\n",
            "Epoch 58/200\n",
            "20/20 [==============================] - 0s 6ms/step - loss: 0.4743 - accuracy: 0.7606 - val_loss: 0.4669 - val_accuracy: 0.7857\n",
            "Epoch 59/200\n",
            "20/20 [==============================] - 0s 6ms/step - loss: 0.4810 - accuracy: 0.7590 - val_loss: 0.4665 - val_accuracy: 0.7857\n",
            "Epoch 60/200\n",
            "20/20 [==============================] - 0s 6ms/step - loss: 0.4873 - accuracy: 0.7492 - val_loss: 0.4665 - val_accuracy: 0.7857\n",
            "Epoch 61/200\n",
            "20/20 [==============================] - 0s 6ms/step - loss: 0.4813 - accuracy: 0.7638 - val_loss: 0.4663 - val_accuracy: 0.7857\n",
            "Epoch 62/200\n",
            "20/20 [==============================] - 0s 6ms/step - loss: 0.4699 - accuracy: 0.7541 - val_loss: 0.4662 - val_accuracy: 0.7922\n",
            "Epoch 63/200\n",
            "20/20 [==============================] - 0s 7ms/step - loss: 0.4801 - accuracy: 0.7655 - val_loss: 0.4669 - val_accuracy: 0.7857\n",
            "Epoch 64/200\n",
            "20/20 [==============================] - 0s 6ms/step - loss: 0.4675 - accuracy: 0.7704 - val_loss: 0.4667 - val_accuracy: 0.7857\n",
            "Epoch 65/200\n",
            "20/20 [==============================] - 0s 7ms/step - loss: 0.4718 - accuracy: 0.7655 - val_loss: 0.4665 - val_accuracy: 0.7857\n",
            "Epoch 66/200\n",
            "20/20 [==============================] - 0s 6ms/step - loss: 0.4802 - accuracy: 0.7638 - val_loss: 0.4665 - val_accuracy: 0.7857\n",
            "Epoch 67/200\n",
            "20/20 [==============================] - 0s 6ms/step - loss: 0.4773 - accuracy: 0.7622 - val_loss: 0.4669 - val_accuracy: 0.7922\n",
            "Epoch 68/200\n",
            "20/20 [==============================] - 0s 6ms/step - loss: 0.4785 - accuracy: 0.7818 - val_loss: 0.4663 - val_accuracy: 0.7922\n",
            "Epoch 69/200\n",
            "20/20 [==============================] - 0s 6ms/step - loss: 0.4658 - accuracy: 0.7590 - val_loss: 0.4660 - val_accuracy: 0.7857\n",
            "Epoch 70/200\n",
            "20/20 [==============================] - 0s 6ms/step - loss: 0.4828 - accuracy: 0.7606 - val_loss: 0.4661 - val_accuracy: 0.7922\n",
            "Epoch 71/200\n",
            "20/20 [==============================] - 0s 9ms/step - loss: 0.4659 - accuracy: 0.7606 - val_loss: 0.4658 - val_accuracy: 0.7857\n",
            "Epoch 72/200\n",
            "20/20 [==============================] - 0s 6ms/step - loss: 0.4671 - accuracy: 0.7720 - val_loss: 0.4656 - val_accuracy: 0.7857\n",
            "Epoch 73/200\n",
            "20/20 [==============================] - 0s 6ms/step - loss: 0.4761 - accuracy: 0.7622 - val_loss: 0.4656 - val_accuracy: 0.7922\n",
            "Epoch 74/200\n",
            "20/20 [==============================] - 0s 6ms/step - loss: 0.4692 - accuracy: 0.7818 - val_loss: 0.4656 - val_accuracy: 0.7857\n",
            "Epoch 75/200\n",
            "20/20 [==============================] - 0s 6ms/step - loss: 0.4927 - accuracy: 0.7638 - val_loss: 0.4654 - val_accuracy: 0.7922\n",
            "Epoch 76/200\n",
            "20/20 [==============================] - 0s 5ms/step - loss: 0.4703 - accuracy: 0.7704 - val_loss: 0.4652 - val_accuracy: 0.7922\n",
            "Epoch 77/200\n",
            "20/20 [==============================] - 0s 5ms/step - loss: 0.4777 - accuracy: 0.7752 - val_loss: 0.4649 - val_accuracy: 0.7922\n",
            "Epoch 78/200\n",
            "20/20 [==============================] - 0s 7ms/step - loss: 0.4767 - accuracy: 0.7638 - val_loss: 0.4646 - val_accuracy: 0.7922\n",
            "Epoch 79/200\n",
            "20/20 [==============================] - 0s 6ms/step - loss: 0.4815 - accuracy: 0.7687 - val_loss: 0.4649 - val_accuracy: 0.7922\n",
            "Epoch 80/200\n",
            "20/20 [==============================] - 0s 7ms/step - loss: 0.4620 - accuracy: 0.7720 - val_loss: 0.4646 - val_accuracy: 0.7922\n",
            "Epoch 81/200\n",
            "20/20 [==============================] - 0s 6ms/step - loss: 0.4704 - accuracy: 0.7687 - val_loss: 0.4650 - val_accuracy: 0.7857\n",
            "Epoch 82/200\n",
            "20/20 [==============================] - 0s 6ms/step - loss: 0.4583 - accuracy: 0.7752 - val_loss: 0.4644 - val_accuracy: 0.7857\n",
            "Epoch 83/200\n",
            "20/20 [==============================] - 0s 6ms/step - loss: 0.4699 - accuracy: 0.7655 - val_loss: 0.4645 - val_accuracy: 0.7922\n",
            "Epoch 84/200\n",
            "20/20 [==============================] - 0s 6ms/step - loss: 0.4661 - accuracy: 0.7573 - val_loss: 0.4650 - val_accuracy: 0.7922\n",
            "Epoch 85/200\n",
            "20/20 [==============================] - 0s 4ms/step - loss: 0.4828 - accuracy: 0.7638 - val_loss: 0.4647 - val_accuracy: 0.7922\n",
            "Epoch 86/200\n",
            "20/20 [==============================] - 0s 5ms/step - loss: 0.4794 - accuracy: 0.7590 - val_loss: 0.4647 - val_accuracy: 0.7922\n",
            "Epoch 87/200\n",
            "20/20 [==============================] - 0s 4ms/step - loss: 0.4706 - accuracy: 0.7801 - val_loss: 0.4646 - val_accuracy: 0.7922\n",
            "Epoch 88/200\n",
            "20/20 [==============================] - 0s 5ms/step - loss: 0.4782 - accuracy: 0.7655 - val_loss: 0.4651 - val_accuracy: 0.7922\n",
            "Epoch 89/200\n",
            "20/20 [==============================] - 0s 4ms/step - loss: 0.4704 - accuracy: 0.7638 - val_loss: 0.4651 - val_accuracy: 0.7922\n",
            "Epoch 90/200\n",
            "20/20 [==============================] - 0s 5ms/step - loss: 0.4656 - accuracy: 0.7834 - val_loss: 0.4644 - val_accuracy: 0.7922\n",
            "Epoch 91/200\n",
            "20/20 [==============================] - 0s 4ms/step - loss: 0.4698 - accuracy: 0.7801 - val_loss: 0.4643 - val_accuracy: 0.7922\n",
            "Epoch 92/200\n",
            "20/20 [==============================] - 0s 4ms/step - loss: 0.4672 - accuracy: 0.7622 - val_loss: 0.4648 - val_accuracy: 0.7922\n",
            "Epoch 93/200\n",
            "20/20 [==============================] - 0s 4ms/step - loss: 0.4858 - accuracy: 0.7606 - val_loss: 0.4643 - val_accuracy: 0.7922\n",
            "Epoch 94/200\n",
            "20/20 [==============================] - 0s 4ms/step - loss: 0.4672 - accuracy: 0.7704 - val_loss: 0.4645 - val_accuracy: 0.7922\n",
            "Epoch 95/200\n",
            "20/20 [==============================] - 0s 4ms/step - loss: 0.4721 - accuracy: 0.7590 - val_loss: 0.4643 - val_accuracy: 0.7922\n",
            "Epoch 96/200\n",
            "20/20 [==============================] - 0s 5ms/step - loss: 0.4668 - accuracy: 0.7752 - val_loss: 0.4642 - val_accuracy: 0.7922\n",
            "Epoch 97/200\n",
            "20/20 [==============================] - 0s 5ms/step - loss: 0.4661 - accuracy: 0.7704 - val_loss: 0.4643 - val_accuracy: 0.7922\n",
            "Epoch 98/200\n",
            "20/20 [==============================] - 0s 4ms/step - loss: 0.4764 - accuracy: 0.7606 - val_loss: 0.4649 - val_accuracy: 0.7922\n",
            "Epoch 99/200\n",
            "20/20 [==============================] - 0s 5ms/step - loss: 0.4803 - accuracy: 0.7655 - val_loss: 0.4650 - val_accuracy: 0.7922\n",
            "Epoch 100/200\n",
            "20/20 [==============================] - 0s 4ms/step - loss: 0.4704 - accuracy: 0.7671 - val_loss: 0.4651 - val_accuracy: 0.7922\n",
            "Epoch 101/200\n",
            "20/20 [==============================] - 0s 4ms/step - loss: 0.4806 - accuracy: 0.7459 - val_loss: 0.4653 - val_accuracy: 0.7922\n",
            "Epoch 102/200\n",
            "20/20 [==============================] - 0s 4ms/step - loss: 0.4572 - accuracy: 0.7866 - val_loss: 0.4649 - val_accuracy: 0.7922\n",
            "Epoch 103/200\n",
            "20/20 [==============================] - 0s 4ms/step - loss: 0.4640 - accuracy: 0.7752 - val_loss: 0.4646 - val_accuracy: 0.7987\n",
            "Epoch 104/200\n",
            "20/20 [==============================] - 0s 5ms/step - loss: 0.4689 - accuracy: 0.7655 - val_loss: 0.4645 - val_accuracy: 0.7987\n",
            "Epoch 105/200\n",
            "20/20 [==============================] - 0s 4ms/step - loss: 0.4761 - accuracy: 0.7687 - val_loss: 0.4642 - val_accuracy: 0.7987\n",
            "Epoch 106/200\n",
            "20/20 [==============================] - 0s 4ms/step - loss: 0.4547 - accuracy: 0.7801 - val_loss: 0.4639 - val_accuracy: 0.7987\n",
            "Epoch 107/200\n",
            "20/20 [==============================] - 0s 4ms/step - loss: 0.4580 - accuracy: 0.7769 - val_loss: 0.4637 - val_accuracy: 0.7987\n",
            "Epoch 108/200\n",
            "20/20 [==============================] - 0s 4ms/step - loss: 0.4638 - accuracy: 0.7687 - val_loss: 0.4634 - val_accuracy: 0.7987\n",
            "Epoch 109/200\n",
            "20/20 [==============================] - 0s 4ms/step - loss: 0.4696 - accuracy: 0.7622 - val_loss: 0.4639 - val_accuracy: 0.7987\n",
            "Epoch 110/200\n",
            "20/20 [==============================] - 0s 5ms/step - loss: 0.4702 - accuracy: 0.7541 - val_loss: 0.4636 - val_accuracy: 0.7987\n",
            "Epoch 111/200\n",
            "20/20 [==============================] - 0s 4ms/step - loss: 0.4577 - accuracy: 0.7671 - val_loss: 0.4639 - val_accuracy: 0.7987\n",
            "Epoch 112/200\n",
            "20/20 [==============================] - 0s 4ms/step - loss: 0.4609 - accuracy: 0.7736 - val_loss: 0.4639 - val_accuracy: 0.7922\n",
            "Epoch 113/200\n",
            "20/20 [==============================] - 0s 5ms/step - loss: 0.4701 - accuracy: 0.7606 - val_loss: 0.4640 - val_accuracy: 0.7987\n",
            "Epoch 114/200\n",
            "20/20 [==============================] - 0s 4ms/step - loss: 0.4602 - accuracy: 0.7687 - val_loss: 0.4644 - val_accuracy: 0.7987\n",
            "Epoch 115/200\n",
            "20/20 [==============================] - 0s 4ms/step - loss: 0.4643 - accuracy: 0.7801 - val_loss: 0.4639 - val_accuracy: 0.7987\n",
            "Epoch 116/200\n",
            "20/20 [==============================] - 0s 4ms/step - loss: 0.4600 - accuracy: 0.7752 - val_loss: 0.4636 - val_accuracy: 0.7922\n",
            "Epoch 117/200\n",
            "20/20 [==============================] - 0s 5ms/step - loss: 0.4705 - accuracy: 0.7541 - val_loss: 0.4637 - val_accuracy: 0.7987\n",
            "Epoch 118/200\n",
            "20/20 [==============================] - 0s 4ms/step - loss: 0.4599 - accuracy: 0.7704 - val_loss: 0.4638 - val_accuracy: 0.8052\n",
            "Epoch 119/200\n",
            "20/20 [==============================] - 0s 4ms/step - loss: 0.4650 - accuracy: 0.7720 - val_loss: 0.4636 - val_accuracy: 0.7987\n",
            "Epoch 120/200\n",
            "20/20 [==============================] - 0s 4ms/step - loss: 0.4582 - accuracy: 0.7606 - val_loss: 0.4639 - val_accuracy: 0.7987\n",
            "Epoch 121/200\n",
            "20/20 [==============================] - 0s 5ms/step - loss: 0.4783 - accuracy: 0.7834 - val_loss: 0.4642 - val_accuracy: 0.7987\n",
            "Epoch 122/200\n",
            "20/20 [==============================] - 0s 5ms/step - loss: 0.4654 - accuracy: 0.7736 - val_loss: 0.4642 - val_accuracy: 0.7987\n",
            "Epoch 123/200\n",
            "20/20 [==============================] - 0s 4ms/step - loss: 0.4601 - accuracy: 0.7622 - val_loss: 0.4644 - val_accuracy: 0.7987\n",
            "Epoch 124/200\n",
            "20/20 [==============================] - 0s 4ms/step - loss: 0.4684 - accuracy: 0.7720 - val_loss: 0.4649 - val_accuracy: 0.7987\n",
            "Epoch 125/200\n",
            "20/20 [==============================] - 0s 5ms/step - loss: 0.4605 - accuracy: 0.7818 - val_loss: 0.4655 - val_accuracy: 0.7987\n",
            "Epoch 126/200\n",
            "20/20 [==============================] - 0s 4ms/step - loss: 0.4631 - accuracy: 0.7720 - val_loss: 0.4653 - val_accuracy: 0.7987\n",
            "Epoch 127/200\n",
            "20/20 [==============================] - 0s 4ms/step - loss: 0.4535 - accuracy: 0.7834 - val_loss: 0.4652 - val_accuracy: 0.7987\n",
            "Epoch 128/200\n",
            "20/20 [==============================] - 0s 4ms/step - loss: 0.4773 - accuracy: 0.7655 - val_loss: 0.4651 - val_accuracy: 0.7987\n",
            "Epoch 129/200\n",
            "20/20 [==============================] - 0s 4ms/step - loss: 0.4588 - accuracy: 0.7850 - val_loss: 0.4651 - val_accuracy: 0.7987\n",
            "Epoch 130/200\n",
            "20/20 [==============================] - 0s 4ms/step - loss: 0.4653 - accuracy: 0.7622 - val_loss: 0.4648 - val_accuracy: 0.7987\n",
            "Epoch 131/200\n",
            "20/20 [==============================] - 0s 4ms/step - loss: 0.4804 - accuracy: 0.7752 - val_loss: 0.4652 - val_accuracy: 0.7987\n",
            "Epoch 132/200\n",
            "20/20 [==============================] - 0s 4ms/step - loss: 0.4621 - accuracy: 0.7671 - val_loss: 0.4655 - val_accuracy: 0.7987\n",
            "Epoch 133/200\n",
            "20/20 [==============================] - 0s 5ms/step - loss: 0.4664 - accuracy: 0.7818 - val_loss: 0.4656 - val_accuracy: 0.8052\n",
            "Epoch 134/200\n",
            "20/20 [==============================] - 0s 4ms/step - loss: 0.4660 - accuracy: 0.7704 - val_loss: 0.4658 - val_accuracy: 0.7987\n",
            "Epoch 135/200\n",
            "20/20 [==============================] - 0s 5ms/step - loss: 0.4668 - accuracy: 0.7638 - val_loss: 0.4656 - val_accuracy: 0.7987\n",
            "Epoch 136/200\n",
            "20/20 [==============================] - 0s 4ms/step - loss: 0.4766 - accuracy: 0.7622 - val_loss: 0.4653 - val_accuracy: 0.7987\n",
            "Epoch 137/200\n",
            "20/20 [==============================] - 0s 4ms/step - loss: 0.4689 - accuracy: 0.7769 - val_loss: 0.4651 - val_accuracy: 0.7922\n",
            "Epoch 138/200\n",
            "20/20 [==============================] - 0s 4ms/step - loss: 0.4669 - accuracy: 0.7638 - val_loss: 0.4654 - val_accuracy: 0.7987\n",
            "Epoch 139/200\n",
            "20/20 [==============================] - 0s 4ms/step - loss: 0.4589 - accuracy: 0.7785 - val_loss: 0.4653 - val_accuracy: 0.7987\n",
            "Epoch 140/200\n",
            "20/20 [==============================] - 0s 4ms/step - loss: 0.4664 - accuracy: 0.7704 - val_loss: 0.4652 - val_accuracy: 0.7922\n",
            "Epoch 141/200\n",
            "20/20 [==============================] - 0s 4ms/step - loss: 0.4797 - accuracy: 0.7590 - val_loss: 0.4651 - val_accuracy: 0.7922\n",
            "Epoch 142/200\n",
            "20/20 [==============================] - 0s 4ms/step - loss: 0.4517 - accuracy: 0.7785 - val_loss: 0.4652 - val_accuracy: 0.7922\n",
            "Epoch 143/200\n",
            "20/20 [==============================] - 0s 5ms/step - loss: 0.4838 - accuracy: 0.7655 - val_loss: 0.4658 - val_accuracy: 0.7857\n",
            "Epoch 144/200\n",
            "20/20 [==============================] - 0s 4ms/step - loss: 0.4639 - accuracy: 0.7818 - val_loss: 0.4658 - val_accuracy: 0.7857\n",
            "Epoch 145/200\n",
            "20/20 [==============================] - 0s 5ms/step - loss: 0.4638 - accuracy: 0.7801 - val_loss: 0.4655 - val_accuracy: 0.7857\n",
            "Epoch 146/200\n",
            "20/20 [==============================] - 0s 4ms/step - loss: 0.4586 - accuracy: 0.7736 - val_loss: 0.4651 - val_accuracy: 0.7922\n",
            "Epoch 147/200\n",
            "20/20 [==============================] - 0s 4ms/step - loss: 0.4593 - accuracy: 0.7687 - val_loss: 0.4656 - val_accuracy: 0.7922\n",
            "Epoch 148/200\n",
            "20/20 [==============================] - 0s 5ms/step - loss: 0.4549 - accuracy: 0.7622 - val_loss: 0.4655 - val_accuracy: 0.7922\n",
            "Epoch 149/200\n",
            "20/20 [==============================] - 0s 4ms/step - loss: 0.4622 - accuracy: 0.7704 - val_loss: 0.4655 - val_accuracy: 0.7987\n",
            "Epoch 150/200\n",
            "20/20 [==============================] - 0s 4ms/step - loss: 0.4507 - accuracy: 0.7736 - val_loss: 0.4652 - val_accuracy: 0.7987\n",
            "Epoch 151/200\n",
            "20/20 [==============================] - 0s 4ms/step - loss: 0.4506 - accuracy: 0.7785 - val_loss: 0.4650 - val_accuracy: 0.7987\n",
            "Epoch 152/200\n",
            "20/20 [==============================] - 0s 4ms/step - loss: 0.4633 - accuracy: 0.7638 - val_loss: 0.4647 - val_accuracy: 0.7987\n",
            "Epoch 153/200\n",
            "20/20 [==============================] - 0s 4ms/step - loss: 0.4609 - accuracy: 0.7736 - val_loss: 0.4644 - val_accuracy: 0.7987\n",
            "Epoch 154/200\n",
            "20/20 [==============================] - 0s 5ms/step - loss: 0.4539 - accuracy: 0.7818 - val_loss: 0.4643 - val_accuracy: 0.7987\n",
            "Epoch 155/200\n",
            "20/20 [==============================] - 0s 4ms/step - loss: 0.4521 - accuracy: 0.7720 - val_loss: 0.4645 - val_accuracy: 0.7987\n",
            "Epoch 156/200\n",
            "20/20 [==============================] - 0s 4ms/step - loss: 0.4633 - accuracy: 0.7704 - val_loss: 0.4654 - val_accuracy: 0.7922\n",
            "Epoch 157/200\n",
            "20/20 [==============================] - 0s 4ms/step - loss: 0.4613 - accuracy: 0.7687 - val_loss: 0.4649 - val_accuracy: 0.7922\n",
            "Epoch 158/200\n",
            "20/20 [==============================] - 0s 4ms/step - loss: 0.4624 - accuracy: 0.7622 - val_loss: 0.4647 - val_accuracy: 0.7922\n",
            "Epoch 159/200\n",
            "20/20 [==============================] - 0s 4ms/step - loss: 0.4740 - accuracy: 0.7769 - val_loss: 0.4648 - val_accuracy: 0.7922\n",
            "Epoch 160/200\n",
            "20/20 [==============================] - 0s 4ms/step - loss: 0.4496 - accuracy: 0.7752 - val_loss: 0.4647 - val_accuracy: 0.7922\n",
            "Epoch 161/200\n",
            "20/20 [==============================] - 0s 4ms/step - loss: 0.4528 - accuracy: 0.7704 - val_loss: 0.4648 - val_accuracy: 0.7922\n",
            "Epoch 162/200\n",
            "20/20 [==============================] - 0s 4ms/step - loss: 0.4586 - accuracy: 0.7769 - val_loss: 0.4651 - val_accuracy: 0.7922\n",
            "Epoch 163/200\n",
            "20/20 [==============================] - 0s 4ms/step - loss: 0.4568 - accuracy: 0.7638 - val_loss: 0.4648 - val_accuracy: 0.7922\n",
            "Epoch 164/200\n",
            "20/20 [==============================] - 0s 4ms/step - loss: 0.4718 - accuracy: 0.7524 - val_loss: 0.4650 - val_accuracy: 0.7922\n",
            "Epoch 165/200\n",
            "20/20 [==============================] - 0s 4ms/step - loss: 0.4585 - accuracy: 0.7720 - val_loss: 0.4653 - val_accuracy: 0.7922\n",
            "Epoch 166/200\n",
            "20/20 [==============================] - 0s 5ms/step - loss: 0.4596 - accuracy: 0.7818 - val_loss: 0.4653 - val_accuracy: 0.7922\n",
            "Epoch 167/200\n",
            "20/20 [==============================] - 0s 4ms/step - loss: 0.4442 - accuracy: 0.7850 - val_loss: 0.4650 - val_accuracy: 0.7922\n",
            "Epoch 168/200\n",
            "20/20 [==============================] - 0s 4ms/step - loss: 0.4503 - accuracy: 0.7801 - val_loss: 0.4649 - val_accuracy: 0.7922\n",
            "Epoch 169/200\n",
            "20/20 [==============================] - 0s 5ms/step - loss: 0.4608 - accuracy: 0.7704 - val_loss: 0.4648 - val_accuracy: 0.7922\n",
            "Epoch 170/200\n",
            "20/20 [==============================] - 0s 4ms/step - loss: 0.4805 - accuracy: 0.7769 - val_loss: 0.4647 - val_accuracy: 0.7922\n",
            "Epoch 171/200\n",
            "20/20 [==============================] - 0s 4ms/step - loss: 0.4615 - accuracy: 0.7671 - val_loss: 0.4644 - val_accuracy: 0.7922\n",
            "Epoch 172/200\n",
            "20/20 [==============================] - 0s 4ms/step - loss: 0.4584 - accuracy: 0.7638 - val_loss: 0.4644 - val_accuracy: 0.7857\n",
            "Epoch 173/200\n",
            "20/20 [==============================] - 0s 5ms/step - loss: 0.4593 - accuracy: 0.7785 - val_loss: 0.4642 - val_accuracy: 0.7922\n",
            "Epoch 174/200\n",
            "20/20 [==============================] - 0s 4ms/step - loss: 0.4605 - accuracy: 0.7736 - val_loss: 0.4645 - val_accuracy: 0.7987\n",
            "Epoch 175/200\n",
            "20/20 [==============================] - 0s 5ms/step - loss: 0.4608 - accuracy: 0.7866 - val_loss: 0.4644 - val_accuracy: 0.8052\n",
            "Epoch 176/200\n",
            "20/20 [==============================] - 0s 5ms/step - loss: 0.4547 - accuracy: 0.7704 - val_loss: 0.4643 - val_accuracy: 0.7987\n",
            "Epoch 177/200\n",
            "20/20 [==============================] - 0s 4ms/step - loss: 0.4561 - accuracy: 0.7704 - val_loss: 0.4644 - val_accuracy: 0.7987\n",
            "Epoch 178/200\n",
            "20/20 [==============================] - 0s 4ms/step - loss: 0.4605 - accuracy: 0.7687 - val_loss: 0.4643 - val_accuracy: 0.7922\n",
            "Epoch 179/200\n",
            "20/20 [==============================] - 0s 5ms/step - loss: 0.4640 - accuracy: 0.7573 - val_loss: 0.4646 - val_accuracy: 0.7922\n",
            "Epoch 180/200\n",
            "20/20 [==============================] - 0s 4ms/step - loss: 0.4513 - accuracy: 0.7671 - val_loss: 0.4646 - val_accuracy: 0.7922\n",
            "Epoch 181/200\n",
            "20/20 [==============================] - 0s 5ms/step - loss: 0.4515 - accuracy: 0.7915 - val_loss: 0.4646 - val_accuracy: 0.7922\n",
            "Epoch 182/200\n",
            "20/20 [==============================] - 0s 4ms/step - loss: 0.4802 - accuracy: 0.7508 - val_loss: 0.4652 - val_accuracy: 0.7922\n",
            "Epoch 183/200\n",
            "20/20 [==============================] - 0s 4ms/step - loss: 0.4497 - accuracy: 0.7801 - val_loss: 0.4649 - val_accuracy: 0.7922\n",
            "Epoch 184/200\n",
            "20/20 [==============================] - 0s 4ms/step - loss: 0.4492 - accuracy: 0.7752 - val_loss: 0.4646 - val_accuracy: 0.7857\n",
            "Epoch 185/200\n",
            "20/20 [==============================] - 0s 5ms/step - loss: 0.4602 - accuracy: 0.7801 - val_loss: 0.4648 - val_accuracy: 0.7857\n",
            "Epoch 186/200\n",
            "20/20 [==============================] - 0s 4ms/step - loss: 0.4591 - accuracy: 0.7687 - val_loss: 0.4647 - val_accuracy: 0.7857\n",
            "Epoch 187/200\n",
            "20/20 [==============================] - 0s 5ms/step - loss: 0.4582 - accuracy: 0.7801 - val_loss: 0.4645 - val_accuracy: 0.7987\n",
            "Epoch 188/200\n",
            "20/20 [==============================] - 0s 4ms/step - loss: 0.4495 - accuracy: 0.7801 - val_loss: 0.4647 - val_accuracy: 0.7857\n",
            "Epoch 189/200\n",
            "20/20 [==============================] - 0s 4ms/step - loss: 0.4551 - accuracy: 0.7769 - val_loss: 0.4649 - val_accuracy: 0.7857\n",
            "Epoch 190/200\n",
            "20/20 [==============================] - 0s 4ms/step - loss: 0.4604 - accuracy: 0.7752 - val_loss: 0.4653 - val_accuracy: 0.7792\n",
            "Epoch 191/200\n",
            "20/20 [==============================] - 0s 4ms/step - loss: 0.4524 - accuracy: 0.7704 - val_loss: 0.4651 - val_accuracy: 0.7792\n",
            "Epoch 192/200\n",
            "20/20 [==============================] - 0s 7ms/step - loss: 0.4508 - accuracy: 0.7704 - val_loss: 0.4657 - val_accuracy: 0.7922\n",
            "Epoch 193/200\n",
            "20/20 [==============================] - 0s 6ms/step - loss: 0.4585 - accuracy: 0.7752 - val_loss: 0.4652 - val_accuracy: 0.7857\n",
            "Epoch 194/200\n",
            "20/20 [==============================] - 0s 6ms/step - loss: 0.4513 - accuracy: 0.7785 - val_loss: 0.4650 - val_accuracy: 0.7792\n",
            "Epoch 195/200\n",
            "20/20 [==============================] - 0s 6ms/step - loss: 0.4477 - accuracy: 0.7818 - val_loss: 0.4651 - val_accuracy: 0.7792\n",
            "Epoch 196/200\n",
            "20/20 [==============================] - 0s 6ms/step - loss: 0.4629 - accuracy: 0.7671 - val_loss: 0.4652 - val_accuracy: 0.7922\n",
            "Epoch 197/200\n",
            "20/20 [==============================] - 0s 6ms/step - loss: 0.4485 - accuracy: 0.7736 - val_loss: 0.4656 - val_accuracy: 0.7922\n",
            "Epoch 198/200\n",
            "20/20 [==============================] - 0s 6ms/step - loss: 0.4487 - accuracy: 0.7752 - val_loss: 0.4657 - val_accuracy: 0.7857\n",
            "Epoch 199/200\n",
            "20/20 [==============================] - 0s 6ms/step - loss: 0.4546 - accuracy: 0.7671 - val_loss: 0.4655 - val_accuracy: 0.7922\n",
            "Epoch 200/200\n",
            "20/20 [==============================] - 0s 6ms/step - loss: 0.4546 - accuracy: 0.7834 - val_loss: 0.4653 - val_accuracy: 0.7857\n"
          ]
        },
        {
          "output_type": "execute_result",
          "data": {
            "text/plain": [
              "<keras.src.callbacks.History at 0x78b9c9ea1690>"
            ]
          },
          "metadata": {},
          "execution_count": 83
        }
      ]
    },
    {
      "cell_type": "code",
      "source": [],
      "metadata": {
        "id": "XZdD6hbJxxtP"
      },
      "execution_count": null,
      "outputs": []
    }
  ]
}